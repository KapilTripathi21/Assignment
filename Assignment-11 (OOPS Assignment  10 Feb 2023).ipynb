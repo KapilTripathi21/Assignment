{
 "cells": [
  {
   "cell_type": "markdown",
   "id": "c9efa5b7",
   "metadata": {},
   "source": [
    "### Assignment - 11 (OOPS Assignment  10 Feb 2023)"
   ]
  },
  {
   "cell_type": "markdown",
   "id": "729a0a37",
   "metadata": {},
   "source": [
    "#### Q1. Which function is used to open a file? What are the different modes of opening a file? Explain each mode of file opening.\n",
    "#### Ans 1.\n",
    "* In Python, we use the open() method to open files.\n",
    "\n",
    "* Different modes of opening a file :-\n",
    "1. In ‘r’ mode, the file opens in the read mode. By default, if we don’t specify the mode argument, it will be treated as read or ‘r’ mode.\n",
    "* For Example, To open our file myfile.txt in ‘r’ mode: open(\"myfile.txt\") or open(\"myfile.txt\", \"r\")\n",
    "\n",
    "2. In the ‘w’ mode, the file opens in write mode. It removes existing content, if present, in the file. If the specified file doesn’t exist, it creates one with the specified name.\n",
    "* For Example, To open our file myfile.txt in ‘w’ mode: open(\"myfile.txt\", \"w\")\n",
    "\n",
    "3. In the ‘a’ mode, the file opens in append mode. It adds content to an existing file (or append at the end of the file). It does not remove the existing content from the file.\n",
    "* For Example, To open our file myfile.txt in ‘a’ mode: open(\"myfile.txt\", \"a\")\n",
    "\n",
    "4. In the ‘r+’ mode, the file opens in the read & write mode. It does not remove existing content, if present, in the file and does not create a file if not present in the directory.\n",
    "* For Example, To open our file myfile.txt in ‘r+‘ mode: open(\"myfile.txt\", \"r+\")\n",
    "\n",
    "5. In the ‘w+’ mode, open the file in the read & write mode & remove existing content. If the file doesn’t exist, it creates a new one. It does not remove existing content & if a file doesn’t exist, it creates a new one.\n",
    "* For Example, To open our file myfile.txt in ‘w+’ mode: open(\"myfile.txt\", \"w+\")\n",
    "\n",
    "6. In the ‘a+’ mode, the file opens in the read & append mode. It does not remove existing content & If the file doesn’t exist, it creates a new one.\n",
    "* For Example, To open our file myfile.txt in a+ mode: open(\"myfile.txt\", \"a+\")\n"
   ]
  },
  {
   "cell_type": "code",
   "execution_count": 1,
   "id": "80264015",
   "metadata": {},
   "outputs": [],
   "source": [
    "f = open(\"myfile.txt\",'w')"
   ]
  },
  {
   "cell_type": "code",
   "execution_count": 2,
   "id": "f18b71c0",
   "metadata": {},
   "outputs": [
    {
     "data": {
      "text/plain": [
       "31"
      ]
     },
     "execution_count": 2,
     "metadata": {},
     "output_type": "execute_result"
    }
   ],
   "source": [
    "f.write(\"This is my first file to write.\")"
   ]
  },
  {
   "cell_type": "code",
   "execution_count": 3,
   "id": "11a35875",
   "metadata": {},
   "outputs": [],
   "source": [
    "f = open(\"myfile.txt\",'a')"
   ]
  },
  {
   "cell_type": "code",
   "execution_count": 4,
   "id": "b2322c86",
   "metadata": {},
   "outputs": [
    {
     "data": {
      "text/plain": [
       "43"
      ]
     },
     "execution_count": 4,
     "metadata": {},
     "output_type": "execute_result"
    }
   ],
   "source": [
    "f.write(\"This is my first file to write with append.\")"
   ]
  },
  {
   "cell_type": "code",
   "execution_count": 5,
   "id": "ffe0b16a",
   "metadata": {},
   "outputs": [],
   "source": [
    "f= open(\"myfile.txt\",'r')"
   ]
  },
  {
   "cell_type": "code",
   "execution_count": 6,
   "id": "e9948b19",
   "metadata": {},
   "outputs": [
    {
     "data": {
      "text/plain": [
       "'This is my first file to write.This is my first file to write with append.'"
      ]
     },
     "execution_count": 6,
     "metadata": {},
     "output_type": "execute_result"
    }
   ],
   "source": [
    "f.read()"
   ]
  },
  {
   "cell_type": "markdown",
   "id": "9f8633f2",
   "metadata": {},
   "source": [
    "#### Q2. Why close() function is used? Why is it important to close a file?\n",
    "#### Ans 2.\n",
    "The close() method closes an open file.\n",
    "\n",
    "You should always close your files, in some cases, due to buffering, changes made to a file may not show until you close the file.\n",
    "\n",
    "Because files are limited resources managed by the operating system, making sure files are closed after use will protect against hard-to-debug issues like running out of file handles or experiencing corrupted data. "
   ]
  },
  {
   "cell_type": "code",
   "execution_count": 7,
   "id": "74af13f7",
   "metadata": {},
   "outputs": [],
   "source": [
    "f.close()"
   ]
  },
  {
   "cell_type": "markdown",
   "id": "281e345b",
   "metadata": {},
   "source": [
    "#### Q3. Write a python program to create a text file. Write ‘I want to become a Data Scientist’ in that file. Then close the file. Open this file and read the content of the file.\n",
    "#### Ans 3."
   ]
  },
  {
   "cell_type": "code",
   "execution_count": 8,
   "id": "91f3cc63",
   "metadata": {},
   "outputs": [],
   "source": [
    "f1 = open(\"text.txt\",'w')"
   ]
  },
  {
   "cell_type": "code",
   "execution_count": 9,
   "id": "f90038a1",
   "metadata": {},
   "outputs": [
    {
     "data": {
      "text/plain": [
       "34"
      ]
     },
     "execution_count": 9,
     "metadata": {},
     "output_type": "execute_result"
    }
   ],
   "source": [
    "f1.write(\"I want to become a Data Scientist.\")"
   ]
  },
  {
   "cell_type": "code",
   "execution_count": 10,
   "id": "ad9bf0c7",
   "metadata": {},
   "outputs": [],
   "source": [
    "f1.close()"
   ]
  },
  {
   "cell_type": "code",
   "execution_count": 11,
   "id": "c5bc7398",
   "metadata": {},
   "outputs": [],
   "source": [
    "f1 = open(\"text.txt\", \"r\")"
   ]
  },
  {
   "cell_type": "code",
   "execution_count": 12,
   "id": "7062c1e9",
   "metadata": {},
   "outputs": [
    {
     "data": {
      "text/plain": [
       "'I want to become a Data Scientist.'"
      ]
     },
     "execution_count": 12,
     "metadata": {},
     "output_type": "execute_result"
    }
   ],
   "source": [
    "f1.read()"
   ]
  },
  {
   "cell_type": "markdown",
   "id": "07e2ea29",
   "metadata": {},
   "source": [
    "#### Q4. Explain the following with python code: read(), readline() and readlines().\n",
    "#### Ans 4.\n",
    "* The read() method Read at most n characters from stream.Read from underlying buffer until we have n characters or we hit EOF. If n is negative or omitted, read until EOF. \n",
    "* The readline() method will return a line from the file when called.\n",
    "* The readlines() method will return all the lines in a file in the format of a list where each element is a line in the file."
   ]
  },
  {
   "cell_type": "code",
   "execution_count": 13,
   "id": "7794cac8",
   "metadata": {},
   "outputs": [
    {
     "data": {
      "text/plain": [
       "0"
      ]
     },
     "execution_count": 13,
     "metadata": {},
     "output_type": "execute_result"
    }
   ],
   "source": [
    "f1.seek(0)"
   ]
  },
  {
   "cell_type": "code",
   "execution_count": 14,
   "id": "f632b6e6",
   "metadata": {},
   "outputs": [
    {
     "data": {
      "text/plain": [
       "'I want to become a Data Scientist.'"
      ]
     },
     "execution_count": 14,
     "metadata": {},
     "output_type": "execute_result"
    }
   ],
   "source": [
    "f1.readline()"
   ]
  },
  {
   "cell_type": "code",
   "execution_count": 15,
   "id": "63a50272",
   "metadata": {},
   "outputs": [
    {
     "data": {
      "text/plain": [
       "0"
      ]
     },
     "execution_count": 15,
     "metadata": {},
     "output_type": "execute_result"
    }
   ],
   "source": [
    "f1.seek(0)"
   ]
  },
  {
   "cell_type": "code",
   "execution_count": 16,
   "id": "da3c40c9",
   "metadata": {},
   "outputs": [
    {
     "data": {
      "text/plain": [
       "['I want to become a Data Scientist.']"
      ]
     },
     "execution_count": 16,
     "metadata": {},
     "output_type": "execute_result"
    }
   ],
   "source": [
    "f1.readlines()"
   ]
  },
  {
   "cell_type": "markdown",
   "id": "5e23e81d",
   "metadata": {},
   "source": [
    "#### Q5. Explain why with statement is used with open(). What is the advantage of using with statement and open() together?\n",
    "#### Ans 5.\n",
    "\"with statement\" creates an execution block and object created in the with statement will be destroyed or gracefully closed when this execution block ends.\n",
    "\n",
    "It means when we used “with statement” with open() function, an execution blocked started and the file object returned by open() function is assigned to file_object. When this execution block of “with statement” end, then the file object’s close function gets called automatically, and the file will be closed gracefully. We don’t need to manually call the close() function anymore if we are using “with statement”\n",
    "\n",
    "* Fewer chances of bug due to coding error\n",
    "\n",
    "  No need to explicitly close the opened file, “with statement” takes care of that. When with the block ends, it will automatically close the file. So, it reduces the number of lines of code and reduces the chances of bug.\n",
    "\n",
    "\n",
    "* Excellent handling in case of exception"
   ]
  },
  {
   "cell_type": "code",
   "execution_count": 17,
   "id": "0531aff5",
   "metadata": {},
   "outputs": [
    {
     "name": "stdout",
     "output_type": "stream",
     "text": [
      "I want to become a Data Scientist.\n"
     ]
    }
   ],
   "source": [
    "with open(\"text.txt\", \"r\") as f1 :\n",
    "    print(f1.read())"
   ]
  },
  {
   "cell_type": "markdown",
   "id": "19504055",
   "metadata": {},
   "source": [
    "#### Q6. Explain the write() and writelines() functions. Give a suitable example.\n",
    "#### Ans 6.\n",
    "* The write() method accepts a string as an argument and writes this string to the text file.\n",
    "* The writelines() method accepts an iterable i.e. a string or the list of strings as an argument and writes these strings to the text file."
   ]
  },
  {
   "cell_type": "code",
   "execution_count": 18,
   "id": "8a873ff4",
   "metadata": {},
   "outputs": [
    {
     "name": "stdout",
     "output_type": "stream",
     "text": [
      "55\n"
     ]
    }
   ],
   "source": [
    "with open(\"my.txt\",\"w\") as f2 :\n",
    "    print(f2.write(\"PWSkills Data Science Master. PWSkills Web Development.\"))"
   ]
  },
  {
   "cell_type": "code",
   "execution_count": 19,
   "id": "e9bb5c4f",
   "metadata": {},
   "outputs": [
    {
     "name": "stdout",
     "output_type": "stream",
     "text": [
      "PWSkills Data Science Master. PWSkills Web Development.\n"
     ]
    }
   ],
   "source": [
    "with open(\"my.txt\", \"r\") as f3 :\n",
    "    print(f3.read())"
   ]
  },
  {
   "cell_type": "code",
   "execution_count": 20,
   "id": "553090e3",
   "metadata": {},
   "outputs": [
    {
     "name": "stdout",
     "output_type": "stream",
     "text": [
      "None\n"
     ]
    }
   ],
   "source": [
    "with open(\"my.txt\",\"a\") as f3 :\n",
    "    print(f3.writelines([\" Data Science Master\", \" Web Development\"]))"
   ]
  },
  {
   "cell_type": "code",
   "execution_count": 21,
   "id": "9dd9057d",
   "metadata": {},
   "outputs": [
    {
     "name": "stdout",
     "output_type": "stream",
     "text": [
      "PWSkills Data Science Master. PWSkills Web Development. Data Science Master Web Development\n"
     ]
    }
   ],
   "source": [
    "with open(\"my.txt\", \"r\") as f3 :\n",
    "    print(f3.read())"
   ]
  }
 ],
 "metadata": {
  "kernelspec": {
   "display_name": "Python 3 (ipykernel)",
   "language": "python",
   "name": "python3"
  },
  "language_info": {
   "codemirror_mode": {
    "name": "ipython",
    "version": 3
   },
   "file_extension": ".py",
   "mimetype": "text/x-python",
   "name": "python",
   "nbconvert_exporter": "python",
   "pygments_lexer": "ipython3",
   "version": "3.9.12"
  }
 },
 "nbformat": 4,
 "nbformat_minor": 5
}
