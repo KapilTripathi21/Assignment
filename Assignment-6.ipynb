{
 "cells": [
  {
   "cell_type": "markdown",
   "id": "2e13b3aa",
   "metadata": {},
   "source": [
    "### Assignment - 6 (OOPS Assignment - 5 Feb 2023)"
   ]
  },
  {
   "cell_type": "markdown",
   "id": "670908c4",
   "metadata": {},
   "source": [
    "#### Q1. Explain Class and Object with respect to Object-Oriented Programming. Give a suitable example.\n",
    "\n",
    "#### And 1.\n",
    "Classes are user-defined data types that act as the blueprint for individual objects, attributes and methods.\n",
    "\n",
    "Objects are instancesor variable of a class created with specifically defined data. Objects can correspond to real-world objects or an abstract entity."
   ]
  },
  {
   "cell_type": "code",
   "execution_count": 1,
   "id": "803ca954",
   "metadata": {},
   "outputs": [],
   "source": [
    "# create class pwskills\n",
    "class pwskills:\n",
    "    def welcome_msg(self):\n",
    "        print(\"Welcome to PWSkills.\")\n",
    "        "
   ]
  },
  {
   "cell_type": "code",
   "execution_count": 2,
   "id": "271b3b59",
   "metadata": {},
   "outputs": [
    {
     "name": "stdout",
     "output_type": "stream",
     "text": [
      "<class '__main__.pwskills'>\n"
     ]
    }
   ],
   "source": [
    "# create object of the class, kapil is the object\n",
    "kapil = pwskills()\n",
    "print(type(kapil))"
   ]
  },
  {
   "cell_type": "markdown",
   "id": "2ad9cc18",
   "metadata": {},
   "source": [
    "#### Q2. Name the four pillars of OOPs.\n",
    "\n",
    "#### Ans 2.\n",
    "The Four Pillars of Object Oriented Programming\n",
    "\n",
    "Abstraction.\n",
    "\n",
    "Encapsulation.\n",
    "\n",
    "Inheritance.\n",
    "\n",
    "Polymorphism."
   ]
  },
  {
   "cell_type": "markdown",
   "id": "21c413ab",
   "metadata": {},
   "source": [
    "#### Q3. Explain why the __init__() function is used. Give a suitable example.\n",
    "#### Ans 3.\n",
    "\n",
    "All classes have a function called __init__(), which is always executed when the class is being initiated.\n",
    "\n",
    "The __init__() function also called constructor  used to assign values to object properties, or other operations that are necessary to do when the object is being created:"
   ]
  },
  {
   "cell_type": "code",
   "execution_count": 3,
   "id": "b79316ab",
   "metadata": {},
   "outputs": [
    {
     "data": {
      "text/plain": [
       "(3445656555, 'g@gmail.com')"
      ]
     },
     "execution_count": 3,
     "metadata": {},
     "output_type": "execute_result"
    }
   ],
   "source": [
    "#Create a class named pwskills1, use the __init__() function to assign values for phone_number,email_id :\n",
    "class pwskills1 :\n",
    "    \n",
    "    def __init__(self,phone_number,email_id):\n",
    "        self.phone_number = phone_number\n",
    "        self.email_id = email_id\n",
    "       \n",
    "    def return_student_details(self):\n",
    "        return self.phone_number, self.email_id\n",
    "    \n",
    "gaurav = pwskills1(3445656555, \"g@gmail.com\")\n",
    "gaurav.return_student_details()"
   ]
  },
  {
   "cell_type": "markdown",
   "id": "a16def8d",
   "metadata": {},
   "source": [
    "#### Q4. Why self is used in OOPs?\n",
    "#### Ans 4.\n",
    "self represents the instance of the class. By using the “self”  we can access the attributes and methods of the class in python. It binds the attributes with the given arguments."
   ]
  },
  {
   "cell_type": "markdown",
   "id": "d043c8b6",
   "metadata": {},
   "source": [
    "#### Q5. What is inheritance? Give an example for each type of inheritance.\n",
    "#### Ans 5.\n",
    "\n",
    "Inheritance is a mechanism in which one class acquires the property of another class. For example, a child inherits the traits of his/her parents. With inheritance, we can reuse the fields and methods of the existing class. Hence, inheritance facilitates Reusability and is an important concept of OOPs.\n",
    "#### Types of inheritance\n",
    "##### Single Inheritance \n",
    "Single inheritance enables a derived class to inherit properties from a single parent class, thus enabling code reusability and the addition of new features to existing code.\n",
    "##### Multiple Inheritance: \n",
    "When a class can be derived from more than one base class this type of inheritance is called multiple inheritances. In multiple inheritances, all the features of the base classes are inherited into the derived class. \n",
    "##### Multilevel Inheritance :\n",
    "In multilevel inheritance, features of the base class and the derived class are further inherited into the new derived class. This is similar to a relationship representing a child and a grandfather. \n",
    "##### Hierarchical Inheritance: \n",
    "When more than one derived class are created from a single base this type of inheritance is called hierarchical inheritance. In this program, we have a parent (base) class and two child (derived) classes.\n",
    "##### Hybrid Inheritance: \n",
    "Inheritance consisting of multiple types of inheritance is called hybrid inheritance."
   ]
  },
  {
   "cell_type": "code",
   "execution_count": 4,
   "id": "04b53c88",
   "metadata": {},
   "outputs": [
    {
     "name": "stdout",
     "output_type": "stream",
     "text": [
      "This is my parent class \n"
     ]
    }
   ],
   "source": [
    "# single inheritance\n",
    " \n",
    "class parent:\n",
    "    \n",
    "    def test_parent(self) : \n",
    "        print(\"This is my parent class \")\n",
    "        \n",
    "class child(parent):\n",
    "    pass\n",
    "\n",
    "child_obj = child()\n",
    "child_obj.test_parent()"
   ]
  },
  {
   "cell_type": "code",
   "execution_count": 5,
   "id": "8c676568",
   "metadata": {},
   "outputs": [
    {
     "name": "stdout",
     "output_type": "stream",
     "text": [
      "This is my class1 \n",
      "This is my class2\n",
      "This is my class3 \n"
     ]
    }
   ],
   "source": [
    "# multilevel inheritance \n",
    " \n",
    "class class1 :\n",
    "    def test_class1(self) : \n",
    "        print(\"This is my class1 \" )\n",
    "        \n",
    "class class2(class1) : \n",
    "    def test_class2(self) : \n",
    "        print(\"This is my class2\" )\n",
    "        \n",
    "class class3(class2) : \n",
    "    def test_class3(self) : \n",
    "        print(\"This is my class3 \")\n",
    "        \n",
    "obj_class3  = class3()\n",
    "obj_class3.test_class1()\n",
    "obj_class3.test_class2()\n",
    "obj_class3.test_class3()"
   ]
  },
  {
   "cell_type": "code",
   "execution_count": 6,
   "id": "de0c3d37",
   "metadata": {},
   "outputs": [
    {
     "name": "stdout",
     "output_type": "stream",
     "text": [
      "This is my class 1\n",
      "This is my class 2\n"
     ]
    }
   ],
   "source": [
    "#  multiple inheritance\n",
    " \n",
    "class class1:\n",
    "    def test_class1(self) : \n",
    "        print(\"This is my class 1\" )\n",
    "\n",
    "class class2 :\n",
    "    def test_class2(self) : \n",
    "        print(\"This is my class 2\")\n",
    "        \n",
    "class class3 (class1 , class2) : \n",
    "    pass\n",
    "\n",
    "obj_class3 = class3()\n",
    "obj_class3.test_class1()\n",
    "obj_class3.test_class2()"
   ]
  },
  {
   "cell_type": "code",
   "execution_count": null,
   "id": "b257cc3b",
   "metadata": {},
   "outputs": [],
   "source": []
  }
 ],
 "metadata": {
  "kernelspec": {
   "display_name": "Python 3 (ipykernel)",
   "language": "python",
   "name": "python3"
  },
  "language_info": {
   "codemirror_mode": {
    "name": "ipython",
    "version": 3
   },
   "file_extension": ".py",
   "mimetype": "text/x-python",
   "name": "python",
   "nbconvert_exporter": "python",
   "pygments_lexer": "ipython3",
   "version": "3.9.12"
  }
 },
 "nbformat": 4,
 "nbformat_minor": 5
}
