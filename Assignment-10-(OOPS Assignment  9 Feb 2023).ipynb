{
 "cells": [
  {
   "cell_type": "markdown",
   "id": "735a4c8c",
   "metadata": {},
   "source": [
    "### Assignment - 10 (OOPS Assignment  9 Feb 2023)"
   ]
  },
  {
   "cell_type": "markdown",
   "id": "f1517c87",
   "metadata": {},
   "source": [
    "#### Q1. Create a vehicle class with an init method having instance variables as name_of_vehicle, max_speed and average_of_vehicle.\n",
    "\n",
    "#### Ans 1."
   ]
  },
  {
   "cell_type": "code",
   "execution_count": 1,
   "id": "64fdbc08",
   "metadata": {},
   "outputs": [],
   "source": [
    "class vehicle:\n",
    "    \n",
    "    def __init__(self, name_of_vehicle, max_speed, average_of_vehicle):\n",
    "        self.name_of_vehicle = name_of_vehicle\n",
    "        self.max_speed = max_speed\n",
    "        self.average_of_vehicle = average_of_vehicle\n",
    "   "
   ]
  },
  {
   "cell_type": "code",
   "execution_count": 2,
   "id": "8011c4e3",
   "metadata": {},
   "outputs": [],
   "source": [
    "vehicle_obj = vehicle(\"Maruti Suzuki Swift\", 200, 25)"
   ]
  },
  {
   "cell_type": "code",
   "execution_count": 3,
   "id": "367332da",
   "metadata": {},
   "outputs": [
    {
     "data": {
      "text/plain": [
       "'Maruti Suzuki Swift'"
      ]
     },
     "execution_count": 3,
     "metadata": {},
     "output_type": "execute_result"
    }
   ],
   "source": [
    "vehicle_obj .name_of_vehicle"
   ]
  },
  {
   "cell_type": "code",
   "execution_count": 4,
   "id": "77ac715a",
   "metadata": {},
   "outputs": [
    {
     "data": {
      "text/plain": [
       "200"
      ]
     },
     "execution_count": 4,
     "metadata": {},
     "output_type": "execute_result"
    }
   ],
   "source": [
    "vehicle_obj .max_speed"
   ]
  },
  {
   "cell_type": "code",
   "execution_count": 5,
   "id": "8fcc7f27",
   "metadata": {},
   "outputs": [
    {
     "data": {
      "text/plain": [
       "25"
      ]
     },
     "execution_count": 5,
     "metadata": {},
     "output_type": "execute_result"
    }
   ],
   "source": [
    "vehicle_obj .average_of_vehicle"
   ]
  },
  {
   "cell_type": "markdown",
   "id": "63c16795",
   "metadata": {},
   "source": [
    "#### Q2. Create a child class car from the vehicle class created in Que 1, which will inherit the vehicle class. Create a method named seating_capacity which takes capacity as an argument and returns the name of the vehicle and its seating capacity.\n",
    "#### Ans 2."
   ]
  },
  {
   "cell_type": "code",
   "execution_count": 6,
   "id": "ba66a435",
   "metadata": {},
   "outputs": [],
   "source": [
    "class car(vehicle):\n",
    "    def seating_capacity(self,capacity):\n",
    "        return self.name_of_vehicle,capacity"
   ]
  },
  {
   "cell_type": "code",
   "execution_count": 7,
   "id": "44641cc4",
   "metadata": {},
   "outputs": [],
   "source": [
    "car_obj = car(\"Maruti Suzuki Swift\", 200, 25)"
   ]
  },
  {
   "cell_type": "code",
   "execution_count": 8,
   "id": "094a8041",
   "metadata": {},
   "outputs": [
    {
     "name": "stdout",
     "output_type": "stream",
     "text": [
      "('Maruti Suzuki Swift', 5)\n"
     ]
    }
   ],
   "source": [
    "print(car_obj.seating_capacity(5))"
   ]
  },
  {
   "cell_type": "markdown",
   "id": "61a64e04",
   "metadata": {},
   "source": [
    "#### Q3. What is multiple inheritance? Write a python code to demonstrate multiple inheritance.\n",
    "#### Ans 3.\n",
    "#### Multiple Inheritance \n",
    "When a class is derived from more than one base class it is called multiple Inheritance. The derived class inherits all the features of the base case."
   ]
  },
  {
   "cell_type": "code",
   "execution_count": 9,
   "id": "4f84554f",
   "metadata": {},
   "outputs": [],
   "source": [
    "# Example of Multiple Inheritance\n",
    "\n",
    "class class1:\n",
    "    def nw_class(self):\n",
    "        return \"This is my first class.\"\n",
    "    \n",
    "class class2:\n",
    "    def nw_class1(self):\n",
    "        return \"This is my second class.\"\n",
    "    \n",
    "class class3(class1,class2):\n",
    "    pass"
   ]
  },
  {
   "cell_type": "code",
   "execution_count": 10,
   "id": "7b251577",
   "metadata": {},
   "outputs": [],
   "source": [
    "class3_obj = class3()"
   ]
  },
  {
   "cell_type": "code",
   "execution_count": 11,
   "id": "7cddd965",
   "metadata": {},
   "outputs": [
    {
     "data": {
      "text/plain": [
       "'This is my first class.'"
      ]
     },
     "execution_count": 11,
     "metadata": {},
     "output_type": "execute_result"
    }
   ],
   "source": [
    "class3_obj.nw_class()"
   ]
  },
  {
   "cell_type": "code",
   "execution_count": 12,
   "id": "79642be5",
   "metadata": {},
   "outputs": [
    {
     "data": {
      "text/plain": [
       "'This is my second class.'"
      ]
     },
     "execution_count": 12,
     "metadata": {},
     "output_type": "execute_result"
    }
   ],
   "source": [
    "class3_obj.nw_class1()"
   ]
  },
  {
   "cell_type": "markdown",
   "id": "181cd0d0",
   "metadata": {},
   "source": [
    "#### Q4. What are getter and setter in python? Create a class and create a getter and a setter method in this class.\n",
    "#### Ans 4.\n",
    "* Getters are the methods that are used in Object-Oriented Programming (OOPS) to access a class's private attributes.\n",
    "* The setter is a method that is used to set the property's value. It is very useful in object-oriented programming to set the value of private attributes in a class.\n",
    "* The main purpose of using getters and setters in object-oriented programs is to ensure data encapsulation."
   ]
  },
  {
   "cell_type": "code",
   "execution_count": 13,
   "id": "4aa8940b",
   "metadata": {},
   "outputs": [
    {
     "name": "stdout",
     "output_type": "stream",
     "text": [
      "2001\n",
      "2019\n"
     ]
    }
   ],
   "source": [
    "class graduated_year:\n",
    "    def __init__(self, year):\n",
    "        self._year = year\n",
    "        \n",
    "    def get_year(self):\n",
    "        return self._year\n",
    "    \n",
    "    def set_year(self, a):\n",
    "        self._year = a\n",
    "    \n",
    "grad_obj = graduated_year(2001)\n",
    "print(grad_obj.get_year())\n",
    "\n",
    "grad_obj.set_year(2019)\n",
    "print(grad_obj._year)"
   ]
  },
  {
   "cell_type": "markdown",
   "id": "fd946fdf",
   "metadata": {},
   "source": [
    "#### Q5.What is method overriding in python? Write a python code to demonstrate method overriding.\n",
    "#### Ans 5.\n",
    "#### Method Overriding\n",
    "* Method overriding is an ability of any object-oriented programming language that allows a subclass or child class to provide a specific implementation of a method that is already provided by one of its super-classes or parent classes.\n",
    "* When a method in a subclass has the same name, same parameters or signature and same return type(or sub-type) as a method in its super-class, then the method in the subclass is said to override the method in the super-class."
   ]
  },
  {
   "cell_type": "code",
   "execution_count": 14,
   "id": "0594bf5f",
   "metadata": {},
   "outputs": [],
   "source": [
    "# Example\n",
    "class Parent():\n",
    "      \n",
    "    def __init__(self):\n",
    "        self.value = \"Inside Parent\"\n",
    "          \n",
    "    def show(self):\n",
    "        print(self.value)\n",
    "          \n",
    "class Child(Parent):\n",
    "      \n",
    "    def __init__(self):\n",
    "        self.value = \"Inside Child\"\n",
    "          \n",
    "    def show(self):\n",
    "        print(self.value)      "
   ]
  },
  {
   "cell_type": "code",
   "execution_count": 15,
   "id": "2289a39d",
   "metadata": {},
   "outputs": [
    {
     "name": "stdout",
     "output_type": "stream",
     "text": [
      "Inside Parent\n",
      "Inside Child\n"
     ]
    }
   ],
   "source": [
    "obj1 = Parent()\n",
    "obj2 = Child()\n",
    "  \n",
    "obj1.show()\n",
    "obj2.show()"
   ]
  }
 ],
 "metadata": {
  "kernelspec": {
   "display_name": "Python 3 (ipykernel)",
   "language": "python",
   "name": "python3"
  },
  "language_info": {
   "codemirror_mode": {
    "name": "ipython",
    "version": 3
   },
   "file_extension": ".py",
   "mimetype": "text/x-python",
   "name": "python",
   "nbconvert_exporter": "python",
   "pygments_lexer": "ipython3",
   "version": "3.9.12"
  }
 },
 "nbformat": 4,
 "nbformat_minor": 5
}
