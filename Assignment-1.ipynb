{
 "cells": [
  {
   "cell_type": "markdown",
   "id": "a3db529e",
   "metadata": {},
   "source": [
    "### Assignment-1                    "
   ]
  },
  {
   "cell_type": "markdown",
   "id": "57318c1d",
   "metadata": {},
   "source": [
    "#### Q1. Who developed Python Programming Language ?\n",
    "\n",
    "Ans:-1. Python was developed by \"Guido van Rossum\" in 1989 while working at National Research Institute Netherland . It is a General purpose high level programming language."
   ]
  },
  {
   "cell_type": "markdown",
   "id": "dd8fe573",
   "metadata": {},
   "source": [
    "#### Q2. Which type of programming does Python support ?\n",
    "\n",
    "Ans:-2. Python support three programming paradigms: Imperative, Functional, and Object-Oriented."
   ]
  },
  {
   "cell_type": "markdown",
   "id": "8af469ef",
   "metadata": {},
   "source": [
    "#### Q3. Is Python is case sensitive while dealing with identifiers ?\n",
    "\n",
    "Ans:-3. Yes, Python is a case-sensitive language while dealing with identifiers.\n",
    "\n",
    "Python identifiers can contain lowercase letters (a-z), uppercase letters (A-Z), numerals (0-9), and underscores ( _ ). This means that Identifiers in Python cannot contain special characters except underscore in them.\n",
    "The name of the identifier cannot begin with a number.\n",
    "The name of a Python identifier can begin with an underscore.\n",
    "The length of the identifier name is unrestricted.\n",
    "\n"
   ]
  },
  {
   "cell_type": "markdown",
   "id": "bc2cbb2a",
   "metadata": {},
   "source": [
    "#### Q4. What is the correct extension of Python ?\n",
    "\n",
    "Ans:-4. .py is the extension of python."
   ]
  },
  {
   "cell_type": "markdown",
   "id": "afcdd1b4",
   "metadata": {},
   "source": [
    "#### Q5. Is Python code compiled or interpreted ?\n",
    "\n",
    "Ans:-5. Python is an interpreted language, which means the source code of a Python program is \n",
    "        converted into bytecode that is then executed by the Python virtual machine."
   ]
  },
  {
   "cell_type": "markdown",
   "id": "c62d0283",
   "metadata": {},
   "source": [
    "#### Q6. Name a few block of code used to define in Python language ?\n",
    "\n",
    "Ans:-6. A Python program is constructed from code blocks. A block is a piece of Python program text that is executed as a unit. The following are blocks: a module, a function body, and a class definition. Each command typed interactively is a block. Python uses indentation to indicate a block of code"
   ]
  },
  {
   "cell_type": "markdown",
   "id": "1cb70385",
   "metadata": {},
   "source": [
    "#### Q7. State a character used to give single line comments in  Python ?\n",
    "\n",
    "Ans:-7. # is used to write single line comment in Python."
   ]
  },
  {
   "cell_type": "markdown",
   "id": "86fb31f8",
   "metadata": {},
   "source": [
    "#### Q8. Mention functions which can help us to find the version of Python that we are currently working on ?\n",
    "\n",
    "Ans:-8. Using \"sys.version\" method and \"python_version()\" function\n",
    "\n",
    "import sys\n",
    "\n",
    "print(\"User Current Version:-\", sys.version)\n",
    "\n",
    "Output:-User Current Version:- 3.9.12 (main, Apr  4 2022, 05:22:27) [MSC v.1916 64 bit (AMD64)]\n",
    "\n",
    "from platform import python_version\n",
    "\n",
    "print(\"Current Python Version-\", python_version())\n",
    "\n",
    "Output:-Current Python Version- 3.9.12\n",
    "\n",
    "\n",
    "    "
   ]
  },
  {
   "cell_type": "markdown",
   "id": "76fb8a7d",
   "metadata": {},
   "source": [
    "#### Q9. Python supports the creation of anonymous functions at run time, using a construct called ?\n",
    "\n",
    "Ans:-9. Python supports the creation of anonymous functions (i.e. functions that are not bound to a name) at runtime, using a construct called \"lambda\"."
   ]
  },
  {
   "cell_type": "markdown",
   "id": "f6c96637",
   "metadata": {},
   "source": [
    "#### Q10. What does pip stands for in Python ?\n",
    "\n",
    "Ans:-10. pip stands for \"preferred installer program\" in Python."
   ]
  },
  {
   "cell_type": "markdown",
   "id": "2292fc7c",
   "metadata": {},
   "source": [
    "#### Q11. Mention a few built-In function in Python ?\n",
    "\n",
    "Ans:-11. print( ) function, type( ) function, input( ) function, abs( ) function, pow( ) function, sorted( ) function,max( ) function etc."
   ]
  },
  {
   "cell_type": "markdown",
   "id": "87262f0a",
   "metadata": {},
   "source": [
    "#### Q12. What is the maximum possible length of an identifier in Python ?\n",
    "\n",
    "Ans:-12. An identifier can have a maximum length of 79 characters in Python."
   ]
  },
  {
   "cell_type": "markdown",
   "id": "e4723b9c",
   "metadata": {},
   "source": [
    "#### Q13. What are the benifits of using Python ?\n",
    "\n",
    "Ans:-13. Presence of third-party modules.\n",
    "\n",
    "Extensive support libraries(NumPy for numerical calculations, Pandas for data analytics, etc.) \n",
    "\n",
    "Open source and large active community base\n",
    "\n",
    "Versatile, Easy to read, learn and write,User-friendly data structures,High-level language. \n",
    "\n",
    "Dynamically typed language(No need to mention data type based on the value assigned, it takes data type) \n",
    "\n",
    "Object-Oriented and Procedural  Programming language\n",
    "\n",
    "Portable and Interactive\n",
    "\n",
    "Ideal for prototypes – provide more functionality with less coding\n",
    "\n",
    "\n",
    "Interpreted Language\n",
    "\n",
    "Highly Efficient (Python’s clean object-oriented design provides enhanced process control, and the language is equipped with excellent text processing and integration capabilities, as well as its own unit testing framework, which makes it more efficient.)\n"
   ]
  },
  {
   "cell_type": "markdown",
   "id": "bd08c133",
   "metadata": {},
   "source": [
    "#### Q14. How is memory managed in Python ?\n",
    "\n",
    "Ans:-14. Memory management in Python involves a private heap containing all Python objects and data structures. The management of this private heap is ensured internally by the Python memory manager. "
   ]
  },
  {
   "cell_type": "markdown",
   "id": "26391deb",
   "metadata": {},
   "source": [
    "#### Q15. How to install Python in Windows and set path variables ?\n",
    "\n",
    "Ans:-15. Install Python in Windows\n",
    "1. Open a browser to the Python website and download the Windows installer.\n",
    "\n",
    "2. Double click on the downloaded file and install Python for all users, and ensure that Python is added to your path. Click on Install now to begin.\n",
    "\n",
    "3. After the installation is complete, click Disable path length limit and then Close. \n",
    "\n",
    "4. Click Close to end the installation.\n",
    "\n",
    "Set path variables\n",
    "\n",
    "1. Right-clicking This PC and going to Properties.\n",
    "\n",
    "2. Clicking on the Advanced system settings in the menu on the left.\n",
    "\n",
    "3. Clicking on the Environment Variables button on the bottom right.\n",
    "\n",
    "4. In the System variables section, selecting the Path variable and clicking on Edit. The next screen will show all the directories that are currently a part of the PATH variable.\n",
    "\n",
    "5. Clicking on New and entering Python’s install directory."
   ]
  },
  {
   "cell_type": "markdown",
   "id": "002946f7",
   "metadata": {},
   "source": [
    "#### Q16. Is Indentation required in Python ?\n",
    "\n",
    "Ans:-16. Yes Indentation required  in Python.\n",
    "Indentation refers to the spaces at the beginning of a code line. Where in other programming languages the indentation in code is for readability only, the indentation in Python is very important. Python uses indentation to indicate a block of code."
   ]
  },
  {
   "cell_type": "code",
   "execution_count": null,
   "id": "ae51153e",
   "metadata": {},
   "outputs": [],
   "source": []
  }
 ],
 "metadata": {
  "kernelspec": {
   "display_name": "Python 3 (ipykernel)",
   "language": "python",
   "name": "python3"
  },
  "language_info": {
   "codemirror_mode": {
    "name": "ipython",
    "version": 3
   },
   "file_extension": ".py",
   "mimetype": "text/x-python",
   "name": "python",
   "nbconvert_exporter": "python",
   "pygments_lexer": "ipython3",
   "version": "3.9.12"
  }
 },
 "nbformat": 4,
 "nbformat_minor": 5
}
