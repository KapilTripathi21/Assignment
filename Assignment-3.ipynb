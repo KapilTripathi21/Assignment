{
 "cells": [
  {
   "cell_type": "markdown",
   "id": "f0c3f34c",
   "metadata": {},
   "source": [
    "### Assignment - 3 (Python Assignment- 2 Feb 2023)"
   ]
  },
  {
   "cell_type": "markdown",
   "id": "f696c5da",
   "metadata": {},
   "source": [
    "#### Q1. Explain with an example each when to use a for loop and a while loop.\n",
    "\n",
    "#### Ans 1."
   ]
  },
  {
   "cell_type": "markdown",
   "id": "a67ea77d",
   "metadata": {},
   "source": [
    "##### For loop:\n",
    "A for loop is a control flow statement that executes code repeatedly for a particular number of iterations. In this control flow statement, the keyword used is for. \n",
    "The for loop is used when we already know the number of iterations, which means when we know how many times a statement has to be executed.\n",
    "\n",
    "##### While loop: \n",
    "A loop that executes a single statement or a group of statements for the given true condition. The keyword used to represent this loop is \"while\". \n",
    "A \"while\" loop is used when the number of iterations is unknown. The statement repeats itself till the boolean value becomes false. In a while loop, the condition is tested at the start, also known as the pre-test loop.\n",
    "\n"
   ]
  },
  {
   "cell_type": "code",
   "execution_count": 21,
   "id": "2711eba2",
   "metadata": {},
   "outputs": [
    {
     "name": "stdout",
     "output_type": "stream",
     "text": [
      "1\n",
      "2\n",
      "3\n",
      "Kapil Tripathi\n",
      "Kapil Tripathi\n",
      "Kapil Tripathi\n",
      "Kapil Tripathi\n",
      "Kapil Tripathi\n"
     ]
    }
   ],
   "source": [
    "# Example:- For Loop\n",
    "n = [1, 2, 3]  # Initialization\n",
    "for i in n:  # Condition and Updation\n",
    "    print(i)\n",
    "    \n",
    "for i in range(5):\n",
    "    print(\"Kapil Tripathi\")"
   ]
  },
  {
   "cell_type": "code",
   "execution_count": 14,
   "id": "8e8df990",
   "metadata": {},
   "outputs": [
    {
     "name": "stdout",
     "output_type": "stream",
     "text": [
      "1\n",
      "2\n",
      "3\n",
      "4\n",
      "5\n",
      "Enter your name:- Kapil\n",
      "How many times you want to print your name:- \n",
      "5\n",
      "Kapil\n",
      "Kapil\n",
      "Kapil\n",
      "Kapil\n",
      "Kapil\n"
     ]
    }
   ],
   "source": [
    "# Example:- While Loop\n",
    "i = 1  # Initialization\n",
    "while i < 6:  # Condition\n",
    "    print(i)\n",
    "    i += 1  # Updation\n",
    "    \n",
    "name=input(\"Enter your name:- \")\n",
    "num=int(input(\"How many times you want to print your name:- \\n\"))\n",
    "while num>0:\n",
    "    print(name)\n",
    "    num=num-1"
   ]
  },
  {
   "cell_type": "markdown",
   "id": "b585e54e",
   "metadata": {},
   "source": [
    "#### Q2. Write a python program to print the sum and product of the first 10 natural numbers using for and while loop.\n",
    "\n",
    "#### Ans 2."
   ]
  },
  {
   "cell_type": "code",
   "execution_count": 13,
   "id": "aef00d69",
   "metadata": {},
   "outputs": [
    {
     "name": "stdout",
     "output_type": "stream",
     "text": [
      "Enter a number:10\n",
      "2\n",
      "3\n",
      "4\n",
      "5\n",
      "6\n",
      "7\n",
      "8\n",
      "9\n",
      "10\n",
      "11\n",
      "The sum is:  55\n",
      "The product is:  3628800\n"
     ]
    }
   ],
   "source": [
    "# Using For Loop\n",
    "num = int(input(\"Enter a number:\"))\n",
    "i = 1 \n",
    "sum = 0\n",
    "product = 1\n",
    "for i in range(1,num+1):\n",
    "    sum = sum + i\n",
    "    product = product *i\n",
    "    i = i + 1\n",
    "    print(i)\n",
    "print(\"The sum is: \", sum)\n",
    "print(\"The product is: \", product)    "
   ]
  },
  {
   "cell_type": "code",
   "execution_count": 11,
   "id": "35da1d0d",
   "metadata": {},
   "outputs": [
    {
     "name": "stdout",
     "output_type": "stream",
     "text": [
      "Enter a number: 10\n",
      "1\n",
      "2\n",
      "3\n",
      "4\n",
      "5\n",
      "6\n",
      "7\n",
      "8\n",
      "9\n",
      "10\n",
      "The sum is:  55\n",
      "The product is:  3628800\n"
     ]
    }
   ],
   "source": [
    "# Using While Loop\n",
    "num1 = int(input(\"Enter a number: \"))\n",
    "i = 1\n",
    "sum1 =0\n",
    "product1 = 1\n",
    "while i<=num1:\n",
    "    sum1 = sum1 + i\n",
    "    product1 = product1 *i\n",
    "    print(i)\n",
    "    i = i + 1\n",
    "    \n",
    "print(\"The sum is: \", sum1)\n",
    "print(\"The product is: \", product1)"
   ]
  },
  {
   "cell_type": "markdown",
   "id": "dae7cbc2",
   "metadata": {},
   "source": [
    "#### Q3. Create a python program to compute the electricity bill for a household.                                              \n",
    "#### The per-unit charges in rupees are as follows: For the first 100 units, the user will be charged Rs. 4.5 per unit, for the next 100 units, the user will be charged Rs. 6 per unit, and for the next 100 units, the user will be charged Rs. 10 per unit, After 300 units and above the user will be charged Rs. 20 per unit.\n",
    "\n",
    "#### You are required to take the units of electricity consumed in a month from the user as input. Your program must pass this test case: when the unit of electricity consumed by the user in a month is 310, the total electricity bill should be 2250.\n",
    "\n",
    "#### Ans 3."
   ]
  },
  {
   "cell_type": "code",
   "execution_count": 6,
   "id": "8b5b340d",
   "metadata": {},
   "outputs": [
    {
     "name": "stdout",
     "output_type": "stream",
     "text": [
      "Enter Units of Electricity 310\n",
      "Your electricity bill is  2250.0\n",
      "Youe electricity bill is 2250.0 Only.\n"
     ]
    }
   ],
   "source": [
    "units = int(input(\"Enter Units of Electricity \"))\n",
    "Amount = 0\n",
    "if units<=100:\n",
    "    Amount = units*4.5\n",
    "elif units<=200:\n",
    "    Amount = 100*4.5 + (units-100)*6\n",
    "elif units<=300:\n",
    "    Amount = 100*4.5 + 100*6 + (units-100)*10\n",
    "else:\n",
    "    Amount = 100*4.5 + 100*6 + 100*10 + (units-300)*20\n",
    "    \n",
    "print(\"Your electricity bill is \", Amount)\n",
    "print(f\"Youe electricity bill is {Amount} Only.\")\n",
    "    "
   ]
  },
  {
   "cell_type": "markdown",
   "id": "8177e9f4",
   "metadata": {},
   "source": [
    "#### Q4. Create a list of numbers from 1 to 100. Use for loop and while loop to calculate the cube of each number and if the cube of that number is divisible by 4 or 5 then append that number in a list and print that list.\n",
    "\n",
    "#### Ans 4."
   ]
  },
  {
   "cell_type": "code",
   "execution_count": 35,
   "id": "7de6fe63",
   "metadata": {},
   "outputs": [
    {
     "name": "stdout",
     "output_type": "stream",
     "text": [
      "[2, 4, 5, 6, 8, 10, 12, 14, 15, 16, 18, 20, 22, 24, 25, 26, 28, 30, 32, 34, 35, 36, 38, 40, 42, 44, 45, 46, 48, 50, 52, 54, 55, 56, 58, 60, 62, 64, 65, 66, 68, 70, 72, 74, 75, 76, 78, 80, 82, 84, 85, 86, 88, 90, 92, 94, 95, 96, 98, 100]\n"
     ]
    },
    {
     "data": {
      "text/plain": [
       "60"
      ]
     },
     "execution_count": 35,
     "metadata": {},
     "output_type": "execute_result"
    }
   ],
   "source": [
    "# By using For Loop\n",
    "l = []\n",
    "for i in range(1,101):\n",
    "    cube = i**3\n",
    "    if cube % 4 == 0 or cube % 5 == 0:\n",
    "        l.append(i)\n",
    "print(l)\n",
    "len(l)   "
   ]
  },
  {
   "cell_type": "code",
   "execution_count": 36,
   "id": "219d5a18",
   "metadata": {},
   "outputs": [
    {
     "name": "stdout",
     "output_type": "stream",
     "text": [
      "[2, 4, 5, 6, 8, 10, 12, 14, 15, 16, 18, 20, 22, 24, 25, 26, 28, 30, 32, 34, 35, 36, 38, 40, 42, 44, 45, 46, 48, 50, 52, 54, 55, 56, 58, 60, 62, 64, 65, 66, 68, 70, 72, 74, 75, 76, 78, 80, 82, 84, 85, 86, 88, 90, 92, 94, 95, 96, 98, 100]\n"
     ]
    },
    {
     "data": {
      "text/plain": [
       "60"
      ]
     },
     "execution_count": 36,
     "metadata": {},
     "output_type": "execute_result"
    }
   ],
   "source": [
    "# By using While Loop\n",
    "l1=[]\n",
    "i=1\n",
    "while i <=100:\n",
    "    cube = i**3\n",
    "    if cube % 4 == 0 or cube % 5 == 0:\n",
    "        l1.append(i)\n",
    "    i=i+1\n",
    "print(l1)\n",
    "len(l1)"
   ]
  },
  {
   "cell_type": "markdown",
   "id": "5b9620ab",
   "metadata": {},
   "source": [
    "#### Q5. Write a program to filter count vowels in the below-given string. string = \"I want to become a data scientist\"\n",
    "\n",
    "#### Ans 5."
   ]
  },
  {
   "cell_type": "code",
   "execution_count": 40,
   "id": "a99abce4",
   "metadata": {},
   "outputs": [
    {
     "name": "stdout",
     "output_type": "stream",
     "text": [
      "Number of Vowels in string are ['I', 'a', 'o', 'e', 'o', 'e', 'a', 'a', 'a', 'i', 'e', 'i'].\n",
      "Total vowels in a string are 12.\n"
     ]
    }
   ],
   "source": [
    "string = \"I want to become a data scientist\"\n",
    "vowels = ['a','e','i','o','u']\n",
    "vowels_count = []\n",
    "for i in string:\n",
    "    if i.lower() in vowels:\n",
    "        vowels_count.append(i)\n",
    "        \n",
    "print(f\"Number of Vowels in string are {vowels_count}.\")\n",
    "print(f\"Total vowels in a string are {len(vowels_count)}.\")"
   ]
  },
  {
   "cell_type": "code",
   "execution_count": null,
   "id": "913366bf",
   "metadata": {},
   "outputs": [],
   "source": []
  }
 ],
 "metadata": {
  "kernelspec": {
   "display_name": "Python 3 (ipykernel)",
   "language": "python",
   "name": "python3"
  },
  "language_info": {
   "codemirror_mode": {
    "name": "ipython",
    "version": 3
   },
   "file_extension": ".py",
   "mimetype": "text/x-python",
   "name": "python",
   "nbconvert_exporter": "python",
   "pygments_lexer": "ipython3",
   "version": "3.9.12"
  }
 },
 "nbformat": 4,
 "nbformat_minor": 5
}
