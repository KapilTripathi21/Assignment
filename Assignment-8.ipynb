{
 "cells": [
  {
   "cell_type": "markdown",
   "id": "2e13b3aa",
   "metadata": {},
   "source": [
    "### Assignment - 8 (Python Assignment  7 Feb 2023)"
   ]
  },
  {
   "cell_type": "markdown",
   "id": "6203ded9",
   "metadata": {},
   "source": [
    "#### Q1. You are writing code for a company. The requirement of the company is that you create a python function that will check whether the password entered by the user is correct or not. The function should take the password as input and return the string “Valid Password” if the entered password follows the below-given password guidelines else it should return “Invalid Password”.\n",
    "#### Note: \n",
    "1. The Password should contain at least two uppercase letters and at least two lowercase letters.\n",
    "2. The Password should contain at least a number and three special characters.\n",
    "3. The length of the password should be 10 characters long.\n",
    "\n",
    "#### Ans 1."
   ]
  },
  {
   "cell_type": "code",
   "execution_count": 1,
   "id": "7e660cd2",
   "metadata": {},
   "outputs": [
    {
     "name": "stdout",
     "output_type": "stream",
     "text": [
      "Enter your password :  KApil123!@#$\n",
      "\n",
      "Valid Password\n"
     ]
    }
   ],
   "source": [
    "def check_password():\n",
    "    n=input(\"Enter your password :  \")\n",
    "    lowercase=0\n",
    "    uppercase=0\n",
    "    numbers=0 \n",
    "    special_character=0\n",
    "    for i in n:\n",
    "        if i.islower()==True:\n",
    "            lowercase+=1\n",
    "        elif i.isupper()==True:\n",
    "            uppercase+=1\n",
    "        elif i.isdigit()==True:\n",
    "            numbers+=1\n",
    "        elif i.isalpha()==False and i.isdigit()==False:\n",
    "            special_character+=1\n",
    "  \n",
    "    if lowercase>=2 and uppercase>=2 and numbers>=1 and special_character>=3 and len(n)>=10:\n",
    "        print(\"\\nValid Password\")\n",
    "    else:\n",
    "        print(\"\\nInvalid Password\")\n",
    "        \n",
    "        \n",
    "check_password()"
   ]
  },
  {
   "cell_type": "markdown",
   "id": "75b510a8",
   "metadata": {},
   "source": [
    "#### Q2. Solve the below-given questions using at least one of the following:\n",
    "##### 1. Lambda function\n",
    "##### 2. Filter function\n",
    "##### 3. Map function\n",
    "##### 4. List Comprehension\n",
    "\n",
    "* Check if the string starts with a particular letter\n",
    "* Check if the string is numeric\n",
    "* Sort a list of tuples having fruit names and their quantity.\n",
    "[(\"mango\",99),(\"orange\",80), (\"grapes\", 1000)]\n",
    "* Find the squares of numbers from 1 to 10\n",
    "* Find the cube root of numbers from 1 to 10\n",
    "* Check if a given number is even\n",
    "* Filter odd numbers from the given list.\n",
    "[1,2,3,4,5,6,7,8,9,10]\n",
    "* Sort a list of integers into positive and negative integers lists.\n",
    "[1,2,3,4,5,6,-1,-2,-3,-4,-5,0]"
   ]
  },
  {
   "cell_type": "code",
   "execution_count": 2,
   "id": "e2678cdf",
   "metadata": {},
   "outputs": [
    {
     "name": "stdout",
     "output_type": "stream",
     "text": [
      "True\n",
      "False\n"
     ]
    }
   ],
   "source": [
    "# Check if the string starts with a particular letter\n",
    "\n",
    "s = \"PWSkills Data Science Master Course\"\n",
    "s1 = \"Data Science Master Course\"\n",
    "\n",
    "a = lambda x: True if x.startswith('PWSkills') else False\n",
    "\n",
    "print(a(s))\n",
    "print(a(s1))"
   ]
  },
  {
   "cell_type": "code",
   "execution_count": 12,
   "id": "eb3c96f3",
   "metadata": {},
   "outputs": [
    {
     "name": "stdout",
     "output_type": "stream",
     "text": [
      "Enter the no. -1234\n",
      "Numeric\n"
     ]
    }
   ],
   "source": [
    "# Check if the string is numeric\n",
    "\n",
    "# Using lambda function\n",
    "num = input(\"Enter the no. \")\n",
    "num1 = lambda : \"Numeric\" if num.lstrip(\"-\").isdigit() == True else \"Not Numeric\"\n",
    "print(num1())\n"
   ]
  },
  {
   "cell_type": "code",
   "execution_count": 4,
   "id": "85a71ea7",
   "metadata": {},
   "outputs": [
    {
     "data": {
      "text/plain": [
       "[('orange', 80), ('mango', 99), ('grapes', 1000)]"
      ]
     },
     "execution_count": 4,
     "metadata": {},
     "output_type": "execute_result"
    }
   ],
   "source": [
    "# Sort a list of tuples having fruit names and their quantity. [(\"mango\",99),(\"orange\",80), (\"grapes\", 1000)]\n",
    "\n",
    "l = [(\"mango\",99),(\"orange\",80), (\"grapes\", 1000)]\n",
    "l.sort(key = lambda x: x[1])\n",
    "l"
   ]
  },
  {
   "cell_type": "code",
   "execution_count": 7,
   "id": "544a0dbc",
   "metadata": {},
   "outputs": [
    {
     "name": "stdout",
     "output_type": "stream",
     "text": [
      "[1, 2, 3, 4, 5, 6, 7, 8, 9, 10]\n",
      "[1, 4, 9, 16, 25, 36, 49, 64, 81, 100]\n",
      "[1, 4, 9, 16, 25, 36, 49, 64, 81, 100]\n"
     ]
    }
   ],
   "source": [
    "# Find the squares of numbers from 1 to 10\n",
    "l =[]\n",
    "for i in range(1,11):\n",
    "    l.append(i)   \n",
    "print(l)\n",
    "# Using map function\n",
    "square_numbers = list(map(lambda x: x ** 2, l))\n",
    "print(square_numbers)\n",
    "\n",
    "# Using List Comprehension\n",
    "sq = [i**2 for i in l ]\n",
    "print(sq)"
   ]
  },
  {
   "cell_type": "code",
   "execution_count": 8,
   "id": "afb2ccef",
   "metadata": {},
   "outputs": [
    {
     "name": "stdout",
     "output_type": "stream",
     "text": [
      "[1, 8, 27, 64, 125, 216, 343, 512, 729, 1000]\n",
      "[1, 8, 27, 64, 125, 216, 343, 512, 729, 1000]\n"
     ]
    }
   ],
   "source": [
    "# Find the cube root of numbers from 1 to 10\n",
    "\n",
    "# Using map function\n",
    "cube_numbers = list(map(lambda x: x ** 3, l))\n",
    "print(cube_numbers)\n",
    "\n",
    "# Using List Comprehension\n",
    "cube = [i**3 for i in l]\n",
    "print(cube)"
   ]
  },
  {
   "cell_type": "code",
   "execution_count": 9,
   "id": "3f5a4f92",
   "metadata": {},
   "outputs": [
    {
     "name": "stdout",
     "output_type": "stream",
     "text": [
      "Enter the no. 88\n",
      "Even Number\n"
     ]
    }
   ],
   "source": [
    "# Check if a given number is even\n",
    "\n",
    "# Using lambda function\n",
    "number = int(input(\"Enter the no. \"))\n",
    "odd_even = lambda : \"Even Number\" if number % 2 == 0 else \"Odd Number\"\n",
    "\n",
    "print(odd_even())\n"
   ]
  },
  {
   "cell_type": "code",
   "execution_count": 10,
   "id": "29759ba7",
   "metadata": {},
   "outputs": [
    {
     "name": "stdout",
     "output_type": "stream",
     "text": [
      "[1, 3, 5, 7, 9]\n",
      "[1, 3, 5, 7, 9]\n"
     ]
    }
   ],
   "source": [
    "# Filter odd numbers from the given list. [1,2,3,4,5,6,7,8,9,10]\n",
    "\n",
    "# Using List Comprehension\n",
    "l = [1,2,3,4,5,6,7,8,9,10]\n",
    "l1 = [i for i in l if i%2 !=0 ]\n",
    "print(l1)\n",
    "\n",
    "# Using filter function\n",
    "odd = list(filter(lambda x : x%2 != 0,l))\n",
    "print(odd)\n",
    "           "
   ]
  },
  {
   "cell_type": "code",
   "execution_count": 11,
   "id": "ed32e075",
   "metadata": {},
   "outputs": [
    {
     "data": {
      "text/plain": [
       "[-5, -4, -3, -2, -1, 1, 2, 3, 4, 5, 6]"
      ]
     },
     "execution_count": 11,
     "metadata": {},
     "output_type": "execute_result"
    }
   ],
   "source": [
    "# Sort a list of integers into positive and negative integers lists. [1,2,3,4,5,6,-1,-2,-3,-4,-5,0]\n",
    "l = [1,2,3,4,5,6,-1,-2,-3,-4,-5,0]\n",
    "list(filter(l.sort(),l))"
   ]
  }
 ],
 "metadata": {
  "kernelspec": {
   "display_name": "Python 3 (ipykernel)",
   "language": "python",
   "name": "python3"
  },
  "language_info": {
   "codemirror_mode": {
    "name": "ipython",
    "version": 3
   },
   "file_extension": ".py",
   "mimetype": "text/x-python",
   "name": "python",
   "nbconvert_exporter": "python",
   "pygments_lexer": "ipython3",
   "version": "3.9.12"
  }
 },
 "nbformat": 4,
 "nbformat_minor": 5
}
