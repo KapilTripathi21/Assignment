{
 "cells": [
  {
   "cell_type": "markdown",
   "id": "2e13b3aa",
   "metadata": {},
   "source": [
    "### Assignment - 9 (OOPS Assignment  8 Feb 2023)"
   ]
  },
  {
   "cell_type": "markdown",
   "id": "d01e52bf",
   "metadata": {},
   "source": [
    "#### Q1. What is Abstraction in OOps? Explain with an example.\n",
    "#### Ans 1.\n",
    "* Abstraction is the concept of object-oriented programming that “shows” only essential attributes and “hides” unnecessary information. \n",
    "* The main purpose of abstraction is hiding the unnecessary details from the users. \n",
    "* Abstraction is selecting data from a larger pool to show only relevant details of the object to the user. \n",
    "* It helps in reducing programming complexity and efforts. It is one of the most important concepts of OOPs."
   ]
  },
  {
   "cell_type": "code",
   "execution_count": 1,
   "id": "406b150a",
   "metadata": {},
   "outputs": [],
   "source": [
    "# Example\n",
    "import abc\n",
    "class pwskills:\n",
    "    \n",
    "    @abc.abstractmethod\n",
    "    def students_details(self):\n",
    "        pass\n",
    "    \n",
    "    @abc.abstractmethod\n",
    "    def students_assignment(self):\n",
    "        pass\n",
    "    \n",
    "    @abc.abstractmethod\n",
    "    def students_marks(self):\n",
    "        pass"
   ]
  },
  {
   "cell_type": "code",
   "execution_count": 5,
   "id": "dc90d3f4",
   "metadata": {},
   "outputs": [],
   "source": [
    "class students_details(pwskills):\n",
    "    \n",
    "    def students_details(self):\n",
    "        return \"This is a Method for taking students details\"\n",
    "    def students_assignment(self):\n",
    "        return \"This is a Method for taking assignment details\"\n",
    "    \n",
    "class data_science_masters(pwskills):\n",
    "    \n",
    "    def students_details(self):\n",
    "        return \"This will return a student's details for data science masters\"\n",
    "    \n",
    "    def students_assignment(self):\n",
    "        return \"This will give you student's assignment details for data science masters\""
   ]
  },
  {
   "cell_type": "code",
   "execution_count": 6,
   "id": "56ca2c9e",
   "metadata": {},
   "outputs": [
    {
     "data": {
      "text/plain": [
       "\"This will return a student's details for data science masters\""
      ]
     },
     "execution_count": 6,
     "metadata": {},
     "output_type": "execute_result"
    }
   ],
   "source": [
    "obj_data_science = data_science_masters()\n",
    "obj_data_science.students_details()"
   ]
  },
  {
   "cell_type": "code",
   "execution_count": 7,
   "id": "2572706d",
   "metadata": {},
   "outputs": [
    {
     "data": {
      "text/plain": [
       "'This is a Method for taking students details'"
      ]
     },
     "execution_count": 7,
     "metadata": {},
     "output_type": "execute_result"
    }
   ],
   "source": [
    "obj_students_details = students_details()\n",
    "obj_students_details.students_details()"
   ]
  },
  {
   "cell_type": "markdown",
   "id": "3f24315f",
   "metadata": {},
   "source": [
    "#### Q2. Differentiate between Abstraction and Encapsulation. Explain with an example.\n",
    "#### Ans 2.\n",
    "#### Abstraction\n",
    "* Abstraction solves the problem and issues that arise at the design stage.\n",
    "* Abstraction allows you to focus on what the object does instead of how it does it.\n",
    "* You can use abstraction using Interface and Abstract Class.\n",
    "\n",
    "Example :- So let we will consider the motorcycle. A mechanic is attempting to repair your motorcycle or, say, a certain section of your motorcycle. You are the user, and you don’t want to know your motorcycle specifics or what portion has actually broken. You don’t care; you simply want your moto cycle in its original condition without worrying about the details. You told the mechanic what you wanted by separating the implementing part; this is called abstraction. The most important thing you did was fix your motorcycle instead of focusing on the particulars.\n",
    "#### Encapsulation\n",
    "* Encapsulation solves the problem and issue that arise at the implementation stage.\n",
    "* Encapsulation enables you to hide the code and data into a single unit to secure the data from the outside world.\n",
    "* You can implement encapsulation using Access Modifiers (Public, Protected & Private.)\n",
    "\n",
    "Example :- Only you need to know the device’s behaviour without having to worry about implementing details like what sensors the Keyboard has and whether it is wireless or not etc. Every detail describes the mouse, but it is simply a keyboard, irrespective of the detail. You just have a keyboard interface, which is the mouse pointer in this situation, and this we called Encapsulation."
   ]
  },
  {
   "cell_type": "markdown",
   "id": "24940a53",
   "metadata": {},
   "source": [
    "#### Q3. What is abc module in python? Why is it used?\n",
    "#### Ans 3.\n",
    "\"abc\" stands for Abstract Base Class.\n",
    "\n",
    "The ‘abc’ module in the Python library provides the infrastructure for defining custom abstract base classes.\n",
    "\n",
    "Abstract class cannot be instantiated in python. An Abstract method can be call by its subclasses."
   ]
  },
  {
   "cell_type": "markdown",
   "id": "20a56b6d",
   "metadata": {},
   "source": [
    "#### Q4. How can we achieve data abstraction?\n",
    "#### Ans 4.\n",
    "Data abstraction is a method where essential elements are displayed to the user and trivial elements are kept hidden.\n",
    "\n",
    "In Python, abstraction can be achieved by having/using abstract classes and methods in our programs. Understanding Abstract Methods and Classes: An abstract method is a method that is declared, but does not contain implementation."
   ]
  },
  {
   "cell_type": "markdown",
   "id": "36c11ad0",
   "metadata": {},
   "source": [
    "#### Q5. Can we create an instance of an abstract class? Explain your answer.\n",
    "#### Ans 5.\n",
    "Abstract classes cannot be instantiated, but they can be subclassed. When an abstract class is subclassed, the subclass usually provides implementations for all of the abstract methods in its parent class. However, if it does not, then the subclass must also be declared abstract ."
   ]
  }
 ],
 "metadata": {
  "kernelspec": {
   "display_name": "Python 3 (ipykernel)",
   "language": "python",
   "name": "python3"
  },
  "language_info": {
   "codemirror_mode": {
    "name": "ipython",
    "version": 3
   },
   "file_extension": ".py",
   "mimetype": "text/x-python",
   "name": "python",
   "nbconvert_exporter": "python",
   "pygments_lexer": "ipython3",
   "version": "3.9.12"
  }
 },
 "nbformat": 4,
 "nbformat_minor": 5
}
