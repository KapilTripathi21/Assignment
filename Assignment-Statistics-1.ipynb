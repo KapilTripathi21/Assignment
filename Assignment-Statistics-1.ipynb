{
 "cells": [
  {
   "cell_type": "markdown",
   "id": "663257df",
   "metadata": {},
   "source": [
    "### Assignment-Statistics (06 Mar 2023) "
   ]
  },
  {
   "cell_type": "markdown",
   "id": "c7f6e618",
   "metadata": {},
   "source": [
    "#### Q1. What is Statistics?\n",
    "#### Ans 1.\n",
    "Statistics is the science of collecting, organizing and analyzing the data.\n",
    "\n",
    "Data is the piece of information.\n",
    "\n",
    "The collecting, organizing and analyzing the data helps us to build a decision."
   ]
  },
  {
   "cell_type": "markdown",
   "id": "7fc31591",
   "metadata": {},
   "source": [
    "#### Q2. Define the different types of statistics and give an example of when each type might be used.\n",
    "#### Ans 2.\n",
    "Two types od statistics:\n",
    "1. Descriptive Statistics --- It consists of organizing and summarizing the data.\n",
    "2. Inferential Statistics --- It consists of using data you have to form a conclusion. We form a conclusion for population data from sample data.\n",
    "\n",
    "Example :-\n",
    "\n",
    "There are 20 statistic clases in our college and we collected the height of students in the class.\n",
    "Height(in cm) = (150, 158, 167, 189, 180, 165, 170, 172, 159, 175)\n",
    "\n",
    "* What is the average height of the entire classroom ?---> Here we have to use Descriptive Statistics.\n",
    "\n",
    "* Are the height of the students in classroom (Sample Data) similar to what we expect in the entire\n",
    "  college (Population Data)---> Here we have to use Inferential Statistics.\n",
    "\n",
    "Population ---> The group on which we are intrested for study.\n",
    "\n",
    "Sample ---> It is a subset of population."
   ]
  },
  {
   "cell_type": "markdown",
   "id": "0add30d6",
   "metadata": {},
   "source": [
    "#### Q3. What are the different types of data and how do they differ from each other? Provide an example of each type of data.\n",
    "#### Ans 3.\n",
    "There are two types of data [i] Quantitative Data (Numerical Data) [ii] Qualitative Data (Categorical Data)\n",
    "\n",
    "Quantitative Data is divided into two parts.\n",
    "1. Discrete Data -->  It shows the count that involves only integers and we cannot subdivide the discrete values into parts. Example The number of students in a class, The number of workers in a company.\n",
    "2. Countinous Data --> The continuous variables can take any value between two numbers. For Example, between the range of 60 and 82 inches, there are millions of possible heights such as 62.04762 inches, 79.948376 inches, etc.\n",
    "\n",
    "Qualitative Data is divided into two parts.\n",
    "\n",
    "1. Nominal Data --> This data type is used just for labeling variables, without having any quantitative value.Example Gender (Women, Men), Marital status (Married, Single, Widowed).\n",
    "2. Ordinal Data --> This type of data is placed into some kind of order by their position on a scale. Ordinal data may indicate superiority. Example Ranking of users in a competition: The first, second, and third, etc., Rating of a product taken by the company on a scale of 1-10."
   ]
  },
  {
   "cell_type": "markdown",
   "id": "858e432c",
   "metadata": {},
   "source": [
    "#### Q4. Categorise the following datasets with respect to quantitative and qualitative data types:\n",
    "* (i) Grading in exam: A+, A, B+, B, C+, C, D, E\n",
    "* (ii) Colour of mangoes: yellow, green, orange, red\n",
    "* (iii) Height data of a class: [178.9, 179, 179.5, 176, 177.2, 178.3, 175.8,...]\n",
    "* (iv) Number of mangoes exported by a farm: [500, 600, 478, 672, ...]\n",
    "\n",
    "#### Ans 4.\n",
    "* (i) Grading in exam: A+, A, B+, B, C+, C, D, E  ---> Ordinal Data.\n",
    "* (ii) Colour of mangoes: yellow, green, orange, red ---> Nominal Data\n",
    "* (iii) Height data of a class: [178.9, 179, 179.5, 176, 177.2, 178.3, 175.8,...] ---> Countinous Data \n",
    "* (iv) Number of mangoes exported by a farm: [500, 600, 478, 672, ...] ---> Discrete Data "
   ]
  },
  {
   "cell_type": "markdown",
   "id": "ca14b360",
   "metadata": {},
   "source": [
    "#### Q5. Explain the concept of levels of measurement and give an example of a variable for each level.\n",
    "#### Ans 5.\n",
    "Levels of measurement, also called scales of measurement, tell you how precisely variables are recorded. In scientific research, a variable is anything that can take on different values across your data set (e.g., height or test scores).\n",
    "\n",
    "There are four different scales of measurement. The data can be defined as being one of the four scales. The four types of scales are:\n",
    "\n",
    "* Nominal: the data can only be categorized. Example City of birth, Gender, Ethnicity, Car brands, Marital status.\n",
    "\n",
    "* Ordinal: the data can be categorized and ranked. Example Ranking of school students – 1st, 2nd, 3rd, etc. , Ratings in restaurants.\n",
    "\n",
    "* Interval: the data can be categorized, ranked, and evenly spaced. Example Test scores (e.g., IQ or exams), Personality inventories, Temperature in Fahrenheit or Celsius.\n",
    "\n",
    "* Ratio: the data can be categorized, ranked, evenly spaced, and has a natural zero. Example Height, Age, Weight, Temperature in Kelvin\n"
   ]
  },
  {
   "cell_type": "markdown",
   "id": "aad264e1",
   "metadata": {},
   "source": [
    "#### Q6. Why is it important to understand the level of measurement when analyzing data? Provide an example to illustrate your answer.\n",
    "#### Ans 6.\n",
    "It is important to understand the level of measurement of variables in data, because the level of measurement determines the type of statistical analysis that can be conducted, and, therefore, the type of conclusions that can be drawn from the data.\n",
    "\n",
    "Ordinal level: You create brackets of income ranges: 0–19,999, 20,000–39,999, and 40,000–59,999. You ask participants to select the bracket that represents their annual income. The brackets are coded with numbers from 1–3.\n",
    "\n",
    "At an ordinal level, however, you only know the income bracket for each participant, not their exact income. Since you cannot say exactly how much each income differs from the others in your data set, you can only order the income levels and group the participants.\n",
    "\n",
    "Ratio level: You collect data on the exact annual incomes of your participants.\n",
    "A = 12,550\n",
    "B = 39,700\n",
    "C = 40,300\n",
    "\n",
    "At a ratio level, you can see that the difference between A and B’s incomes is far greater than the difference between B and C’s incomes.\n",
    "\n"
   ]
  },
  {
   "cell_type": "markdown",
   "id": "1e4ddb25",
   "metadata": {},
   "source": [
    "#### Q7. How nominal data type is different from ordinal data type.\n",
    "#### Ans 7.\n",
    "Nominal Data --> This data type is used just for labeling variables, without having any quantitative value.Example Gender (Women, Men), Marital status (Married, Single, Widowed).\n",
    "\n",
    "Ordinal Data --> This type of data is placed into some kind of order by their position on a scale. Ordinal data may indicate superiority. Example Ranking of users in a competition: The first, second, and third, etc., Rating of a product taken by the company on a scale of 1-10."
   ]
  },
  {
   "cell_type": "markdown",
   "id": "8ea6570d",
   "metadata": {},
   "source": [
    "#### Q8. Which type of plot can be used to display data in terms of range?\n",
    "#### Ans 8. \n",
    "A box plot uses boxes and whiskers to summarize the distribution of values within measured groups. The positions of the box and whisker ends show the regions where the majority of the data lies"
   ]
  },
  {
   "cell_type": "markdown",
   "id": "50567dac",
   "metadata": {},
   "source": [
    "#### Q9. Describe the difference between descriptive and inferential statistics. Give an example of each type of statistics and explain how they are used.\n",
    "#### Ans 9. \n",
    "1. Descriptive Statistics --- It consists of organizing and summarizing the data.\n",
    "\n",
    "For example, the sum of the following data set is 20: (2, 3, 4, 5, 6). The mean is 4 (20/5). The mode of a data set is the value appearing most often, and the median is the figure situated in the middle of the data set. It is the figure separating the higher figures from the lower figures within a data set. However, there are less common types of descriptive statistics that are still very important.\n",
    "\n",
    "2. Inferential Statistics --- It consists of using data you have to form a conclusion. We form a conclusion for population data from sample data.\n",
    "\n",
    "For Example making estimates about populations, election-poll."
   ]
  },
  {
   "cell_type": "markdown",
   "id": "5df702bc",
   "metadata": {},
   "source": [
    "#### Q10. What are some common measures of central tendency and variability used in statistics? Explain how each measure can be used to describe a dataset.\n",
    "#### Ans 10.\n",
    "Measures of central tendency estimate the center, or average, of a data set. The mean, median and mode are 3 ways of finding the average.\n",
    "1. Mean - The mean, or M, is the most commonly used method for finding the average.\n",
    "* Data set - 15, 3, 12, 0, 24, 3\n",
    "* Sum of all values - 57\n",
    "* Total number of responses\tN = 6\n",
    "* Mean\tDivide the sum of values by N to find M: 57/6 = 9.5\n",
    "\n",
    "2. Median- The median is the value that’s exactly in the middle of a data set.\n",
    "* Median number of library visits\n",
    "* Ordered data set\t0, 3, 3, 12, 15, 24\n",
    "* Middle numbers\t3, 12\n",
    "* Median\tFind the mean of the two middle numbers: (3 + 12)/2 = 7.5\n",
    "\n",
    "3. Mode - The mode is the simply the most popular or most frequent response value. A data set can have no mode, one mode, or more than one mode.\n",
    "* Mode number of library visits\n",
    "* Ordered data set\t0, 3, 3, 12, 15, 24\n",
    "* Mode\tFind the most frequently occurring response: 3\n",
    "\n",
    "4. Standard deviation - The standard deviation (s or SD) is the average amount of variability in your dataset. It tells you, on average, how far each score lies from the mean. The larger the standard deviation, the more variable the data set is.\n",
    "* Raw data\t15, 3, 12, 0, 24, 3 . Mean M = 9.5 \n",
    "* Deviation from mean - 15 – 9.5 = 5.5, 3 – 9.5 = -6.5, 12 – 9.5 = 2.5, 0 – 9.5 = -9.5, 24 – 9.5 = 14.5, 3 – 9.5 = -6.5 . Sum of all = 0\n",
    "* Squared deviation - 30.25, 42.25, 6.25, 90.25, 210.25, 42.25. Sum of squares = 421.5\n",
    "* Step 1: 421.5/5 = 84.3\n",
    "\n",
    "* Step 2: √84.3 = 9.18\n",
    "\n",
    "* From learning that s = 9.18, you can say that on average, each score deviates from the mean by 9.18 points.\n",
    "\n",
    "5. Variance - The variance is the average of squared deviations from the mean. Variance reflects the degree of spread in the data set. The more spread the data, the larger the variance is in relation to the mean.\n",
    "* Data set: 15, 3, 12, 0, 24, 3\n",
    "* s = 9.18\n",
    "\n",
    "* s^2 = 84.3"
   ]
  }
 ],
 "metadata": {
  "kernelspec": {
   "display_name": "Python 3 (ipykernel)",
   "language": "python",
   "name": "python3"
  },
  "language_info": {
   "codemirror_mode": {
    "name": "ipython",
    "version": 3
   },
   "file_extension": ".py",
   "mimetype": "text/x-python",
   "name": "python",
   "nbconvert_exporter": "python",
   "pygments_lexer": "ipython3",
   "version": "3.9.12"
  }
 },
 "nbformat": 4,
 "nbformat_minor": 5
}
