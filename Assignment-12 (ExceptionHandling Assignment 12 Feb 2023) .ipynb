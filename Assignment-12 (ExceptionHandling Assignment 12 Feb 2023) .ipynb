{
 "cells": [
  {
   "cell_type": "markdown",
   "id": "91ae76d4-4b1d-4359-b944-28a73482c0bf",
   "metadata": {},
   "source": [
    "### Assignment-12 (ExceptionHandling Assignment  12 Feb 2023)"
   ]
  },
  {
   "cell_type": "markdown",
   "id": "73da063c-1e4a-42cc-ae63-d59f572b1073",
   "metadata": {},
   "source": [
    "#### Q1. What is an Exception in python ? Write the difference between Exception and Syntax errors.\n",
    "#### Ans 1.\n",
    "An Exception is an error that happens during the execution of a program. Whenever there is an error, Python generates an exception that could be handled. It basically prevents the program from getting crashed.\n",
    "\n",
    "Difference between Exception and Syntax errors:\n",
    "\n",
    "* Exceptions: Exceptions are raised when the program is syntactically correct, but the code resulted in an error. This error does not stop the execution of the program, however, it changes the normal flow of the program.\n",
    "\n",
    "* Syntax Error: As the name suggests this error is caused by the wrong syntax in the code. It leads to the termination of the program. \n",
    "\n"
   ]
  },
  {
   "cell_type": "markdown",
   "id": "c97ce5cc-f602-427c-9457-8794dd5c3a6d",
   "metadata": {},
   "source": [
    "#### Q2. What happens when an exception is not handeled ? Explain with an example.\n",
    "#### Ans 2.\n",
    "If the exception is not handled by an except clause, the exception is re-raised after the finally clause has been executed."
   ]
  },
  {
   "cell_type": "code",
   "execution_count": 1,
   "id": "0cad3fd4-7964-498e-8120-15288bcf8f91",
   "metadata": {},
   "outputs": [
    {
     "data": {
      "text/plain": [
       "False"
      ]
     },
     "execution_count": 1,
     "metadata": {},
     "output_type": "execute_result"
    }
   ],
   "source": [
    "def bool_return():\n",
    "    try:\n",
    "        return True\n",
    "    finally:\n",
    "        return False\n",
    "\n",
    "bool_return()"
   ]
  },
  {
   "cell_type": "markdown",
   "id": "829b774a-4bee-4020-8b2f-3ec414e03f78",
   "metadata": {},
   "source": [
    "#### Q3. Which python statements are used to handle exceptions ? Explain with an example.\n",
    "#### Ans 3.\n",
    "In Python, we catch exceptions and handle them using try and except code blocks. The try clause contains the code that can raise an exception, while the except clause contains the code lines that handle the exception."
   ]
  },
  {
   "cell_type": "code",
   "execution_count": 2,
   "id": "2d726a61-bb43-4e2b-a6d0-720af08b7dcd",
   "metadata": {},
   "outputs": [
    {
     "name": "stdout",
     "output_type": "stream",
     "text": [
      "division by zero\n"
     ]
    }
   ],
   "source": [
    "try :\n",
    "    a = 10/0\n",
    "    \n",
    "except ZeroDivisionError as e :\n",
    "    print(e)"
   ]
  },
  {
   "cell_type": "markdown",
   "id": "b2a408ea-8169-43b9-8b6b-04c5ee8a8766",
   "metadata": {},
   "source": [
    "#### Q4. Explain with an example :\n",
    "* a. try and else\n",
    "* b. finaly\n",
    "* c. raise\n",
    "#### Ans 4.\n",
    "* Try and else - Try block will test the excepted error to occur. We can use the else keyword to define a block of code to be executed if no errors were raised.\n",
    "* Finaly - Finally block always gets executed either exception is generated or not.\n",
    "* Raise - Raise Keyword is used to raise exceptions or errors. The raise keyword raises an error and stops the control flow of the program."
   ]
  },
  {
   "cell_type": "code",
   "execution_count": 3,
   "id": "b0deb5d4-bfab-479c-b154-1cbb515889b6",
   "metadata": {},
   "outputs": [
    {
     "name": "stdout",
     "output_type": "stream",
     "text": [
      "This will be executed once your 'try' will execute without error.\n"
     ]
    }
   ],
   "source": [
    "# Example\n",
    "# 1. try and else \n",
    "try :\n",
    "    f = open(\"test.txt\", 'w')\n",
    "    f.write(\"This file with Else Block.\")\n",
    "    \n",
    "except Exception as e :\n",
    "    print(\"This is my Exception Block.\",e)\n",
    "    \n",
    "else :\n",
    "    f.close()\n",
    "    print(\"This will be executed once your 'try' will execute without error.\")"
   ]
  },
  {
   "cell_type": "code",
   "execution_count": 4,
   "id": "7f93c737-8e93-4459-92b2-c04ac10bae9a",
   "metadata": {},
   "outputs": [
    {
     "name": "stdout",
     "output_type": "stream",
     "text": [
      "Can't divide by zero\n",
      "This is always executed\n"
     ]
    }
   ],
   "source": [
    "# 2. Finaly\n",
    "try:\n",
    "    k = 5//0 \n",
    "    print(k)\n",
    "      \n",
    "except ZeroDivisionError:   \n",
    "    print(\"Can't divide by zero\")\n",
    "      \n",
    "finally:\n",
    "    print('This is always executed') \n",
    "    "
   ]
  },
  {
   "cell_type": "code",
   "execution_count": 5,
   "id": "4c6fdc78-4444-49b5-8bec-0900451e89ff",
   "metadata": {},
   "outputs": [
    {
     "ename": "Exception",
     "evalue": "Sorry, no numbers below zero",
     "output_type": "error",
     "traceback": [
      "\u001b[0;31m---------------------------------------------------------------------------\u001b[0m",
      "\u001b[0;31mException\u001b[0m                                 Traceback (most recent call last)",
      "Cell \u001b[0;32mIn[5], line 6\u001b[0m\n\u001b[1;32m      3\u001b[0m x \u001b[38;5;241m=\u001b[39m \u001b[38;5;241m-\u001b[39m\u001b[38;5;241m1\u001b[39m\n\u001b[1;32m      5\u001b[0m \u001b[38;5;28;01mif\u001b[39;00m x \u001b[38;5;241m<\u001b[39m \u001b[38;5;241m0\u001b[39m:\n\u001b[0;32m----> 6\u001b[0m     \u001b[38;5;28;01mraise\u001b[39;00m \u001b[38;5;167;01mException\u001b[39;00m(\u001b[38;5;124m\"\u001b[39m\u001b[38;5;124mSorry, no numbers below zero\u001b[39m\u001b[38;5;124m\"\u001b[39m)\n",
      "\u001b[0;31mException\u001b[0m: Sorry, no numbers below zero"
     ]
    }
   ],
   "source": [
    "# 3. Raise\n",
    "\n",
    "x = -1\n",
    "\n",
    "if x < 0:\n",
    "    raise Exception(\"Sorry, no numbers below zero\")"
   ]
  },
  {
   "cell_type": "markdown",
   "id": "f650ebd1-9d3e-4835-ab45-8b8c5e7f95d4",
   "metadata": {},
   "source": [
    "#### Q5. What are Custom Exceptions in python? Why do we need Custom Exceptions? Explain with an example.\n",
    "#### Ans 5.\n",
    "Custom Exceptions are the User-Defined Exception in Python.\n",
    "\n",
    "Custom Exceptions need to be derived from the Exception class, either directly or indirectly. Although not mandatory, most of the exceptions are named as names that end in “Error” similar to the naming of the standard exceptions in python.\n",
    "\n",
    "Need of Custom Exceptions :- \n",
    "Having custom exceptions tailored to your specific use cases and that you can raise and catch in specific circumstances - can make your code much more readable and robust, and reduce the amount of code you write later to try and figure out what exactly went wrong.\n"
   ]
  },
  {
   "cell_type": "code",
   "execution_count": 6,
   "id": "68c0dc22-e8c9-45aa-8c2a-9082434ce4a2",
   "metadata": {},
   "outputs": [
    {
     "name": "stdout",
     "output_type": "stream",
     "text": [
      "A New Exception occurred:  6\n"
     ]
    }
   ],
   "source": [
    "# class MyError is derived from super class Exception\n",
    "class MyError(Exception):\n",
    " \n",
    "    # Constructor or Initializer\n",
    "    def __init__(self, value):\n",
    "        self.value = value\n",
    " \n",
    "    # __str__ is to print() the value\n",
    "    def __str__(self):\n",
    "        return(repr(self.value))\n",
    " \n",
    " \n",
    "try:\n",
    "    raise(MyError(3*2))\n",
    "\n",
    "# Value of Exception is stored in error\n",
    "except MyError as e:\n",
    "    print('A New Exception occurred: ', e.value)"
   ]
  },
  {
   "cell_type": "markdown",
   "id": "f0042649-4698-4d99-95a5-b7c417d4a561",
   "metadata": {},
   "source": [
    "#### Q6. Create a custom exception class. Use this class to handle an exception.\n",
    "#### Ans 6."
   ]
  },
  {
   "cell_type": "code",
   "execution_count": 7,
   "id": "101452ea-d07a-4361-b4be-de0efaf05338",
   "metadata": {},
   "outputs": [
    {
     "name": "stdin",
     "output_type": "stream",
     "text": [
      "Enter your Age. 56\n"
     ]
    },
    {
     "name": "stdout",
     "output_type": "stream",
     "text": [
      "Age is valid.\n"
     ]
    }
   ],
   "source": [
    "# class validateage is derived from super class Exception\n",
    "class validateage(Exception):\n",
    "    \n",
    "    # Constructor or Initilizer\n",
    "    def __init__(self , msg) : \n",
    "        self.msg = msg\n",
    "        \n",
    "# defining validateage fuction with raise       \n",
    "def validaetage(Age) : \n",
    "    if Age <= 0 :\n",
    "        raise validateage(\"Entered age is negative.\")\n",
    "    elif Age > 200 : \n",
    "        raise validateage(\"Enterd age is very very high.\")\n",
    "    else :\n",
    "        print(\"Age is valid.\")     \n",
    "\n",
    "# Handling the Exception        \n",
    "try :\n",
    "    Age = int(input(\"Enter your Age.\" ))\n",
    "    validaetage(Age)\n",
    "except validateage as e :\n",
    "    print(e)"
   ]
  },
  {
   "cell_type": "code",
   "execution_count": null,
   "id": "1404976e-2f39-4616-a791-50e3f7a8e2c2",
   "metadata": {},
   "outputs": [],
   "source": []
  }
 ],
 "metadata": {
  "kernelspec": {
   "display_name": "Python 3 (ipykernel)",
   "language": "python",
   "name": "python3"
  },
  "language_info": {
   "codemirror_mode": {
    "name": "ipython",
    "version": 3
   },
   "file_extension": ".py",
   "mimetype": "text/x-python",
   "name": "python",
   "nbconvert_exporter": "python",
   "pygments_lexer": "ipython3",
   "version": "3.10.8"
  }
 },
 "nbformat": 4,
 "nbformat_minor": 5
}
