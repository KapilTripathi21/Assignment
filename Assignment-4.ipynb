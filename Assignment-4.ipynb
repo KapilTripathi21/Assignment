{
 "cells": [
  {
   "cell_type": "markdown",
   "id": "2e13b3aa",
   "metadata": {},
   "source": [
    "### Assignment - 4 (Python Assignment  3 Feb 2023)"
   ]
  },
  {
   "cell_type": "markdown",
   "id": "3bd958b0",
   "metadata": {},
   "source": [
    "#### Q1. Which keyword is used to create a function? Create a function to return a list of odd numbers in the range of 1 to 25.\n",
    "\n",
    "#### And 1."
   ]
  },
  {
   "cell_type": "markdown",
   "id": "2ebfeded",
   "metadata": {},
   "source": [
    "\"def\" keyword is used to create function."
   ]
  },
  {
   "cell_type": "code",
   "execution_count": 8,
   "id": "0d93bc81",
   "metadata": {},
   "outputs": [
    {
     "name": "stdout",
     "output_type": "stream",
     "text": [
      "Enter the First number:- 1\n",
      "Enter the Last number:- 25\n",
      "1\n",
      "3\n",
      "5\n",
      "7\n",
      "9\n",
      "11\n",
      "13\n",
      "15\n",
      "17\n",
      "19\n",
      "21\n",
      "23\n",
      "25\n"
     ]
    }
   ],
   "source": [
    "def odd_num():\n",
    "    first_num = int(input(\"Enter the First number:- \"))\n",
    "    last_num = int(input(\"Enter the Last number:- \"))\n",
    "    for i in range(first_num,last_num+1):\n",
    "        if i % 2 != 0:\n",
    "            print(i)\n",
    "            \n",
    "odd_num()"
   ]
  },
  {
   "cell_type": "markdown",
   "id": "82259d5e",
   "metadata": {},
   "source": [
    "#### Q2. Why  **args and **kwargs is used in some functions? Create a function each for  *args and **kwargs to demonstrate their use.\n",
    "\n",
    "#### Ans 2."
   ]
  },
  {
   "cell_type": "markdown",
   "id": "8cacfbef",
   "metadata": {},
   "source": [
    "*args and **kwargs is used as arguments of a function when we are unsure about the number of arguments to pass in the functions.\n",
    "\n",
    "**args allows us to pass a variable number of non-keyword arguments to a Python function. In the function, we should use an asterisk (*) before the parameter name to pass a variable number of arguments.\n",
    "\n",
    "****kwargs allows us to pass a variable number of keyword arguments to a Python function. In the function, we use the double-asterisk (**) before the parameter name to denote this type of argument."
   ]
  },
  {
   "cell_type": "code",
   "execution_count": 11,
   "id": "049298bb",
   "metadata": {},
   "outputs": [
    {
     "name": "stdout",
     "output_type": "stream",
     "text": [
      "5\n",
      "10\n",
      "17\n",
      "26\n"
     ]
    }
   ],
   "source": [
    "# *args \n",
    "def add(*numbers):\n",
    "    total = 0\n",
    "    for num in numbers:\n",
    "        total += num\n",
    "    return total\n",
    "\n",
    "print(add(2, 3))\n",
    "print(add(2, 3, 5))\n",
    "print(add(2, 3, 5, 7))\n",
    "print(add(2, 3, 5, 7, 9))"
   ]
  },
  {
   "cell_type": "code",
   "execution_count": 12,
   "id": "7f9dfd52",
   "metadata": {},
   "outputs": [
    {
     "name": "stdout",
     "output_type": "stream",
     "text": [
      "20\n",
      "30\n",
      "12\n"
     ]
    }
   ],
   "source": [
    "# **kwargs\n",
    "def total_fruits(**fruits):\n",
    "    total = 0\n",
    "    for amount in fruits.values():\n",
    "        total += amount\n",
    "    return total\n",
    "\n",
    "print(total_fruits(banana=5, mango=7, apple=8))\n",
    "print(total_fruits(banana=5, mango=7, apple=8, oranges=10))\n",
    "print(total_fruits(banana=5, mango=7))"
   ]
  },
  {
   "cell_type": "markdown",
   "id": "4dc29e14",
   "metadata": {},
   "source": [
    "#### Q3. What is an iterator in python? Name the method used to initialise the iterator object and the method used for iteration. Use these methods to print the first five elements of the given list [2, 4, 6, 8, 10, 12, 14, 16, 18, 20].\n",
    "\n",
    "#### Ans 3."
   ]
  },
  {
   "cell_type": "markdown",
   "id": "07c36399",
   "metadata": {},
   "source": [
    "An iterator is an object that contains a countable number of values.An iterator is an object that can be iterated upon, meaning that you can traverse through all the values.\n",
    "\n",
    "An Iterator in Python is an object that is used to iterate over iterable objects like lists, tuples, dicts, and sets. The iterator object is initialized using the iter() method. It uses the next() method for iteration."
   ]
  },
  {
   "cell_type": "code",
   "execution_count": 9,
   "id": "5d0d22ab",
   "metadata": {},
   "outputs": [
    {
     "name": "stdout",
     "output_type": "stream",
     "text": [
      "2\n",
      "4\n",
      "6\n",
      "8\n",
      "10\n"
     ]
    }
   ],
   "source": [
    "# Example\n",
    "my_list = [2, 4, 6, 8, 10, 12, 14, 16, 18, 20]\n",
    "iterator = iter(my_list)\n",
    "print(next(iterator))\n",
    "print(next(iterator))\n",
    "print(next(iterator))\n",
    "print(next(iterator))\n",
    "print(next(iterator))"
   ]
  },
  {
   "cell_type": "markdown",
   "id": "c9297de6",
   "metadata": {},
   "source": [
    "#### Q4. What is a generator function in python? Why yield keyword is used? Give an example of a generator function.\n",
    "\n",
    "#### Ans 4.\n",
    "\n",
    "In Python, a generator is a function that returns an iterator that produces a sequence of values when iterated over.\n",
    "\n",
    "Generators are useful when we want to produce a large sequence of values, but we don't want to store all of them in memory at once.\n",
    "\n",
    "In Python, similar to defining a normal function, we can define a generator function using the def keyword, but instead of the return statement we use the yield statement.\n",
    "\n",
    "Here, the yield keyword is used to produce a value from the generator."
   ]
  },
  {
   "cell_type": "code",
   "execution_count": 17,
   "id": "90ecd83a",
   "metadata": {},
   "outputs": [
    {
     "name": "stdout",
     "output_type": "stream",
     "text": [
      "1\n",
      "2\n",
      "3\n"
     ]
    }
   ],
   "source": [
    "# Example 1\n",
    "\n",
    "# A generator function that yields 1 for first time,2 second time and 3 third time\n",
    "def my_generator(): \n",
    "    yield 1\n",
    "    yield 2\n",
    "    yield 3\n",
    "    \n",
    "for value in my_generator():\n",
    "    print(value)\n",
    "    "
   ]
  },
  {
   "cell_type": "code",
   "execution_count": 18,
   "id": "696ec42a",
   "metadata": {},
   "outputs": [
    {
     "name": "stdout",
     "output_type": "stream",
     "text": [
      "0\n",
      "1\n",
      "2\n",
      "3\n",
      "4\n"
     ]
    }
   ],
   "source": [
    "# Example 2\n",
    "def my_gen(n):           # define the my_gen function with input\n",
    "    value = 0            # initialize counter\n",
    "    while value <n :     # loop until counter is less than n\n",
    "        yield value      # produce the current value of the counter\n",
    "        value += 1       # increment the counter\n",
    "        \n",
    "for value in my_gen(5):  # iterate over the generator object produced by my_gen\n",
    "    print(value)         # print each value produced by generator"
   ]
  },
  {
   "cell_type": "markdown",
   "id": "df06747d",
   "metadata": {},
   "source": [
    "#### Q5. Create a generator function for prime numbers less than 1000. Use the next() method to print the first 20 prime numbers.\n",
    "\n",
    "#### Ans 5."
   ]
  },
  {
   "cell_type": "code",
   "execution_count": 34,
   "id": "64baf6d1",
   "metadata": {},
   "outputs": [
    {
     "name": "stdout",
     "output_type": "stream",
     "text": [
      "2\n",
      "3\n",
      "5\n",
      "7\n",
      "11\n",
      "13\n",
      "17\n",
      "19\n",
      "23\n",
      "29\n",
      "31\n",
      "37\n",
      "41\n",
      "43\n",
      "47\n",
      "53\n",
      "59\n",
      "61\n",
      "67\n",
      "71\n"
     ]
    }
   ],
   "source": [
    "def prime_num():\n",
    "    l = []\n",
    "    for i in range(2,1000):\n",
    "        for k in l:\n",
    "            if i % k == 0:\n",
    "                break\n",
    "        else:\n",
    "            l.append(i)\n",
    "            yield(i)\n",
    "            \n",
    "num = prime_num()\n",
    "for x in range(20):\n",
    "    print(next(num))"
   ]
  },
  {
   "cell_type": "markdown",
   "id": "52d84df8",
   "metadata": {},
   "source": [
    "#### Q6. Write a python program to print the first 10 Fibonacci numbers using a while loop.\n",
    "\n",
    "#### Ans 6."
   ]
  },
  {
   "cell_type": "code",
   "execution_count": 37,
   "id": "24e2bb20",
   "metadata": {},
   "outputs": [
    {
     "name": "stdout",
     "output_type": "stream",
     "text": [
      "How many no. you want in Finonaqui series. 10\n",
      "0\n",
      "1\n",
      "1\n",
      "2\n",
      "3\n",
      "5\n",
      "8\n",
      "13\n",
      "21\n",
      "34\n"
     ]
    }
   ],
   "source": [
    "n1 = int(input(\"How many no. you want in Finonaqui series. \"))\n",
    "a , b = 0 , 1\n",
    "counter = 0\n",
    "while counter < n1 :\n",
    "    print(a)\n",
    "    c = a + b\n",
    "    a = b\n",
    "    b = c\n",
    "    counter += 1"
   ]
  },
  {
   "cell_type": "markdown",
   "id": "732e4a6b",
   "metadata": {},
   "source": [
    "#### Q7. Write a List Comprehension to iterate through the given string: ‘pwskills’. Expected output: ['p', 'w', 's', 'k', 'i', 'l', 'l', 's']\n",
    "\n",
    "#### Ans 7."
   ]
  },
  {
   "cell_type": "code",
   "execution_count": 35,
   "id": "ef54efbe",
   "metadata": {},
   "outputs": [
    {
     "data": {
      "text/plain": [
       "['p', 'w', 's', 'k', 'i', 'l', 'l', 's']"
      ]
     },
     "execution_count": 35,
     "metadata": {},
     "output_type": "execute_result"
    }
   ],
   "source": [
    "s = \"pwskills\"\n",
    "s1 = [i for i in s]\n",
    "s1"
   ]
  },
  {
   "cell_type": "markdown",
   "id": "b2a98357",
   "metadata": {},
   "source": [
    "#### Q8. Write a python program to check whether a given number is Palindrome or not using a while loop.\n",
    "\n",
    "#### Ans 8.\n",
    "\n",
    "A palindrome is a number or letter that remains the same even if the number and letters are inverted.\n",
    "\n",
    "Example:- 121, 343, 12321 etc."
   ]
  },
  {
   "cell_type": "code",
   "execution_count": 43,
   "id": "f95f7aee",
   "metadata": {},
   "outputs": [
    {
     "name": "stdout",
     "output_type": "stream",
     "text": [
      "Enter number:121\n",
      "The number is a palindrome.\n"
     ]
    }
   ],
   "source": [
    "input_number=int(input(\"Enter number:\")) # Enter the number from User input in variable input_number.\n",
    "\n",
    "temp=input_number # The value of the integer is then stored in another temporary variable.\n",
    "\n",
    "rev=0  # “rev” is initialized with “0” that will contain the reversed number.\n",
    "\n",
    "while(input_number>0):\n",
    "    # we will fetch the last digit using the modulo operator and store it in a temporary variable dig.\n",
    "    dig=input_number%10  \n",
    "    rev=rev*10+dig\n",
    "    input_number = input_number//10 # last digit will be removed using floor division.\n",
    "if(temp==rev):\n",
    "    print(\"The number is a palindrome.\")\n",
    "else:\n",
    "    print(\"The number isn't a palindrome.\")"
   ]
  },
  {
   "cell_type": "markdown",
   "id": "43e25619",
   "metadata": {},
   "source": [
    "#### Q9. Write a code to print odd numbers from 1 to 100 using list comprehension.\n",
    "#### Note: Use a list comprehension to create a list from 1 to 100 and use another List comprehension to filter out odd numbers.\n",
    "\n",
    "#### Ans 9."
   ]
  },
  {
   "cell_type": "code",
   "execution_count": 54,
   "id": "498e36ca",
   "metadata": {},
   "outputs": [
    {
     "name": "stdout",
     "output_type": "stream",
     "text": [
      "[1, 2, 3, 4, 5, 6, 7, 8, 9, 10, 11, 12, 13, 14, 15, 16, 17, 18, 19, 20, 21, 22, 23, 24, 25, 26, 27, 28, 29, 30, 31, 32, 33, 34, 35, 36, 37, 38, 39, 40, 41, 42, 43, 44, 45, 46, 47, 48, 49, 50, 51, 52, 53, 54, 55, 56, 57, 58, 59, 60, 61, 62, 63, 64, 65, 66, 67, 68, 69, 70, 71, 72, 73, 74, 75, 76, 77, 78, 79, 80, 81, 82, 83, 84, 85, 86, 87, 88, 89, 90, 91, 92, 93, 94, 95, 96, 97, 98, 99, 100]\n",
      "Odd numbers are :\n",
      " [1, 3, 5, 7, 9, 11, 13, 15, 17, 19, 21, 23, 25, 27, 29, 31, 33, 35, 37, 39, 41, 43, 45, 47, 49, 51, 53, 55, 57, 59, 61, 63, 65, 67, 69, 71, 73, 75, 77, 79, 81, 83, 85, 87, 89, 91, 93, 95, 97, 99]\n"
     ]
    },
    {
     "data": {
      "text/plain": [
       "50"
      ]
     },
     "execution_count": 54,
     "metadata": {},
     "output_type": "execute_result"
    }
   ],
   "source": [
    "list1 = [i for i in range(1,101)]\n",
    "print(list1)\n",
    "\n",
    "odd_list = [ x for x in list1 if x % 2 != 0]\n",
    "print(\"Odd numbers are :\\n\", odd_list)\n",
    "len(odd_list) "
   ]
  },
  {
   "cell_type": "code",
   "execution_count": null,
   "id": "2c444e9a",
   "metadata": {},
   "outputs": [],
   "source": []
  }
 ],
 "metadata": {
  "kernelspec": {
   "display_name": "Python 3 (ipykernel)",
   "language": "python",
   "name": "python3"
  },
  "language_info": {
   "codemirror_mode": {
    "name": "ipython",
    "version": 3
   },
   "file_extension": ".py",
   "mimetype": "text/x-python",
   "name": "python",
   "nbconvert_exporter": "python",
   "pygments_lexer": "ipython3",
   "version": "3.9.12"
  }
 },
 "nbformat": 4,
 "nbformat_minor": 5
}
