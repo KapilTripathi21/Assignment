{
 "cells": [
  {
   "cell_type": "markdown",
   "id": "19f72d09",
   "metadata": {},
   "source": [
    "### Assignment-2                    "
   ]
  },
  {
   "cell_type": "markdown",
   "id": "7bf5107e",
   "metadata": {},
   "source": [
    "#### Q1. Write a program to accept percentage from the user and display the grade according to the following criteria:\n",
    "#### Marks > 90 ----------------------- Grade A\n",
    "#### Marks > 80 and <= 90 -------- Grade B\n",
    "#### Marks >= 60 and <= 80 ------ Grade C\n",
    "#### Marks below 60   --------------- Grade D\n",
    "\n",
    "#### Ans 1. "
   ]
  },
  {
   "cell_type": "code",
   "execution_count": 11,
   "id": "6753ae64",
   "metadata": {},
   "outputs": [
    {
     "name": "stdout",
     "output_type": "stream",
     "text": [
      "Enter Percentage Marks of the Student.\n",
      "91\n",
      "Your grade is A.\n"
     ]
    }
   ],
   "source": [
    "marks = int(input(\"Enter Percentage Marks of the Student.\\n\"))\n",
    "if marks > 90 :\n",
    "    print(\"Your grade is A.\")\n",
    "elif marks>80 and marks <= 90 :\n",
    "    print(\"Your grade is B.\")\n",
    "elif marks >= 60 and marks <= 80 :\n",
    "    print(\"Your grade is C.\")\n",
    "else:\n",
    "    print(\" Your grade is D.\")"
   ]
  },
  {
   "cell_type": "markdown",
   "id": "94b4f102",
   "metadata": {},
   "source": [
    "#### Q2. Write a program to accept the cost price of a bike and display the road tax to be paid according to the following criteria :\n",
    "#### Tax 15% --------- Cost Price(in Rs) > 100000\n",
    "#### Tax 10% --------- Cost Price(in Rs) > 50000 and <= 100000\n",
    "#### Tax   5% --------- Cost Price(in Rs) <= 50000\n",
    "\n",
    "#### Ans 2."
   ]
  },
  {
   "cell_type": "code",
   "execution_count": 15,
   "id": "358e2104",
   "metadata": {},
   "outputs": [
    {
     "name": "stdout",
     "output_type": "stream",
     "text": [
      "Enter the Cost Price of your Bike.\n",
      "40000\n",
      "You have to pay 5% Tax.\n"
     ]
    }
   ],
   "source": [
    "cost_price = int(input(\"Enter the Cost Price of your Bike.\\n\"))\n",
    "if cost_price > 100000 :\n",
    "    print(\"You have to pay 15% Tax.\")\n",
    "elif cost_price>50000 and cost_price<=100000:\n",
    "    print(\"You have to pay 10% Tax.\")\n",
    "else:\n",
    "    print(\"You have to pay 5% Tax.\")"
   ]
  },
  {
   "cell_type": "markdown",
   "id": "ea383453",
   "metadata": {},
   "source": [
    "#### Q3. Accept any city from the user and display monument of that city.\n",
    "#### City      ----------------    Monuments\n",
    "#### Delhi    ----------------    Red Fort\n",
    "#### Agra     ----------------    Taj Mahal\n",
    "#### Jaipur  ----------------    Jal Mahal\n",
    "\n",
    "####  Ans 3."
   ]
  },
  {
   "cell_type": "code",
   "execution_count": 24,
   "id": "803cc761",
   "metadata": {},
   "outputs": [
    {
     "name": "stdout",
     "output_type": "stream",
     "text": [
      "Enter the City.\n",
      "AGRA\n",
      "Taj Mahal\n"
     ]
    }
   ],
   "source": [
    "city = input(\"Enter the City.\\n\").lower()\n",
    "if city == \"delhi\" :\n",
    "    print(\"Red Fort\")\n",
    "elif city == \"agra\" :\n",
    "    print(\"Taj Mahal\")\n",
    "elif city == \"jaipur\":\n",
    "    print(\"Jal Mahal\")\n",
    "    "
   ]
  },
  {
   "cell_type": "markdown",
   "id": "7d270da2",
   "metadata": {},
   "source": [
    "#### Q4. Check how many times a number can be divided by 3 before it is less than or equal to 10.\n",
    "\n",
    "#### Ans 4."
   ]
  },
  {
   "cell_type": "code",
   "execution_count": 112,
   "id": "f39793eb",
   "metadata": {},
   "outputs": [
    {
     "name": "stdout",
     "output_type": "stream",
     "text": [
      "Enter a number: \n",
      "67\n",
      "The number can be divided by 3, 2 times before it is less than or equal to 10.\n"
     ]
    }
   ],
   "source": [
    "def divide_by_3(num):\n",
    "    count = 0\n",
    "    while num > 10:\n",
    "        num = num / 3\n",
    "        count += 1\n",
    "    return count\n",
    "\n",
    "number = int(input(\"Enter a number: \\n\"))\n",
    "result = divide_by_3(number)\n",
    "print(f\"The number can be divided by 3, {result} times before it is less than or equal to 10.\")"
   ]
  },
  {
   "cell_type": "markdown",
   "id": "1097595b",
   "metadata": {},
   "source": [
    "#### Q5..Why and when to use while loop in Python give a detailed description with example ?\n",
    "\n"
   ]
  },
  {
   "cell_type": "markdown",
   "id": "02a738e9",
   "metadata": {},
   "source": [
    "#### Ans 5.\n",
    "Python while loop is used to run a block code until a certain condition is met. Here, A while loop evaluates the condition. If the condition evaluates to True , the code inside the while loop is executed.\n",
    "\n",
    "###### Example :"
   ]
  },
  {
   "cell_type": "code",
   "execution_count": 77,
   "id": "6d818bd1",
   "metadata": {},
   "outputs": [
    {
     "name": "stdout",
     "output_type": "stream",
     "text": [
      "10\n",
      "9\n",
      "8\n",
      "7\n",
      "6\n",
      "5\n",
      "4\n",
      "3\n",
      "2\n",
      "1\n"
     ]
    }
   ],
   "source": [
    "n=10\n",
    "while n>0:\n",
    "    print(n)\n",
    "    n=n-1"
   ]
  },
  {
   "cell_type": "markdown",
   "id": "b33e0b5c",
   "metadata": {},
   "source": [
    "#### Q6. Use nested while loop to print 3 different pattern.\n",
    "\n",
    "#### Ans 6."
   ]
  },
  {
   "cell_type": "code",
   "execution_count": 78,
   "id": "a1d99d5e",
   "metadata": {},
   "outputs": [
    {
     "name": "stdout",
     "output_type": "stream",
     "text": [
      "Enter the number:- 5\n",
      "*\n",
      "**\n",
      "***\n",
      "****\n",
      "*****\n"
     ]
    }
   ],
   "source": [
    "# 1.\n",
    "value=int(input(\"Enter the number:- \"))\n",
    "i=1\n",
    "while i<=value:\n",
    "    j=1\n",
    "    while j<=i:\n",
    "        print('*',end='')\n",
    "        j=j+1\n",
    "    print()\n",
    "    i=i+1"
   ]
  },
  {
   "cell_type": "code",
   "execution_count": 79,
   "id": "30e692ec",
   "metadata": {},
   "outputs": [
    {
     "name": "stdout",
     "output_type": "stream",
     "text": [
      "Enter the number:- 4\n",
      "      * \n",
      "    * * \n",
      "  * * * \n",
      "* * * * \n"
     ]
    }
   ],
   "source": [
    "#2.\n",
    "value=int(input(\"Enter the number:- \"))\n",
    "i=1\n",
    "while i<=value:\n",
    "    s=1\n",
    "    while s<=value-i:\n",
    "        print(\" \",end=\" \")\n",
    "        s=s+1\n",
    "    j=1\n",
    "    while j<=i:\n",
    "        print('*',end=' ')\n",
    "        j=j+1\n",
    "    print()\n",
    "    i=i+1"
   ]
  },
  {
   "cell_type": "code",
   "execution_count": 80,
   "id": "244ee041",
   "metadata": {},
   "outputs": [
    {
     "name": "stdout",
     "output_type": "stream",
     "text": [
      "Enter the number:- 3\n",
      "  * \n",
      " * * \n",
      "* * * \n"
     ]
    }
   ],
   "source": [
    "# 3.\n",
    "value=int(input(\"Enter the number:- \"))\n",
    "i=1\n",
    "while i<=value:\n",
    "    s=1\n",
    "    while s<=value-i:\n",
    "        print(\" \",end=\"\")\n",
    "        s=s+1\n",
    "    j=1\n",
    "    while j<=i:\n",
    "        print('*',end=' ')\n",
    "        j=j+1\n",
    "    print()\n",
    "    i=i+1"
   ]
  },
  {
   "cell_type": "markdown",
   "id": "8325930b",
   "metadata": {},
   "source": [
    "#### Q7. Reverse a while loop to display number from 10 to 1.\n",
    "\n",
    "#### Ans 7."
   ]
  },
  {
   "cell_type": "code",
   "execution_count": 81,
   "id": "fb4f8cd8",
   "metadata": {},
   "outputs": [
    {
     "name": "stdout",
     "output_type": "stream",
     "text": [
      "10\n",
      "9\n",
      "8\n",
      "7\n",
      "6\n",
      "5\n",
      "4\n",
      "3\n",
      "2\n",
      "1\n"
     ]
    }
   ],
   "source": [
    "num=10\n",
    "while num>0:\n",
    "    print(num)\n",
    "    num=num-1"
   ]
  },
  {
   "cell_type": "markdown",
   "id": "083c137b",
   "metadata": {},
   "source": [
    "#### Q8 and Q7 both are same."
   ]
  },
  {
   "cell_type": "code",
   "execution_count": null,
   "id": "c211a759",
   "metadata": {},
   "outputs": [],
   "source": []
  }
 ],
 "metadata": {
  "kernelspec": {
   "display_name": "Python 3 (ipykernel)",
   "language": "python",
   "name": "python3"
  },
  "language_info": {
   "codemirror_mode": {
    "name": "ipython",
    "version": 3
   },
   "file_extension": ".py",
   "mimetype": "text/x-python",
   "name": "python",
   "nbconvert_exporter": "python",
   "pygments_lexer": "ipython3",
   "version": "3.9.12"
  }
 },
 "nbformat": 4,
 "nbformat_minor": 5
}
