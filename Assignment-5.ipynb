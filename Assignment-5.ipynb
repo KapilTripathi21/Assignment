{
 "cells": [
  {
   "cell_type": "markdown",
   "id": "2e13b3aa",
   "metadata": {},
   "source": [
    "### Assignment - 5 (Python Assignment  4 Feb 2023)"
   ]
  },
  {
   "cell_type": "markdown",
   "id": "649e2fba",
   "metadata": {},
   "source": [
    "#### Q1. Create a python program to sort the given list of tuples based on integer value using a lambda function.\n",
    " ####    [('Sachin Tendulkar', 34357), ('Ricky Ponting', 27483), ('Jack Kallis', 25534), ('Virat Kohli', 24936)]\n",
    "\n",
    "#### Ans 1."
   ]
  },
  {
   "cell_type": "code",
   "execution_count": 1,
   "id": "c870a0f2",
   "metadata": {},
   "outputs": [
    {
     "data": {
      "text/plain": [
       "[('Virat Kohli', 24936),\n",
       " ('Jack Kallis', 25534),\n",
       " ('Ricky Ponting', 27483),\n",
       " ('Sachin Tendulkar', 34357)]"
      ]
     },
     "execution_count": 1,
     "metadata": {},
     "output_type": "execute_result"
    }
   ],
   "source": [
    "l = [('Sachin Tendulkar', 34357), ('Ricky Ponting', 27483), ('Jack Kallis', 25534), ('Virat Kohli', 24936)]\n",
    "l.sort(key=lambda x : x[1],reverse=False)\n",
    "l"
   ]
  },
  {
   "cell_type": "markdown",
   "id": "7a36c816",
   "metadata": {},
   "source": [
    "#### Q2. Write a Python Program to find the squares of all the numbers in the given list of integers using lambda and map functions.\n",
    "#### [1, 2, 3, 4, 5, 6, 7, 8, 9, 10]\n",
    "#### Ans 2."
   ]
  },
  {
   "cell_type": "code",
   "execution_count": 2,
   "id": "9dee9def",
   "metadata": {},
   "outputs": [
    {
     "data": {
      "text/plain": [
       "[1, 4, 9, 16, 25, 36, 49, 64, 81, 100]"
      ]
     },
     "execution_count": 2,
     "metadata": {},
     "output_type": "execute_result"
    }
   ],
   "source": [
    "l1 = [1, 2, 3, 4, 5, 6, 7, 8, 9, 10]\n",
    "\n",
    "list(map(lambda x : x**2,l1))\n"
   ]
  },
  {
   "cell_type": "markdown",
   "id": "955deb98",
   "metadata": {},
   "source": [
    "#### Q3. Write a python program to convert the given list of integers into a tuple of strings. Use map and lambda functions\n",
    "#### Given String: [1, 2, 3, 4, 5, 6, 7, 8, 9, 10]\n",
    "#### Expected output: ('1', '2', '3', '4', '5', '6', '7', '8', '9', '10')\n",
    "#### Ans 3."
   ]
  },
  {
   "cell_type": "code",
   "execution_count": 3,
   "id": "2789ecb2",
   "metadata": {},
   "outputs": [
    {
     "data": {
      "text/plain": [
       "('1', '2', '3', '4', '5', '6', '7', '8', '9', '10')"
      ]
     },
     "execution_count": 3,
     "metadata": {},
     "output_type": "execute_result"
    }
   ],
   "source": [
    "l2 = [1, 2, 3, 4, 5, 6, 7, 8, 9, 10]\n",
    "\n",
    "tuple(map(lambda x: str(x), l2))\n"
   ]
  },
  {
   "cell_type": "markdown",
   "id": "1807d52e",
   "metadata": {},
   "source": [
    "#### Q4. Write a python program using reduce function to compute the product of a list containing numbers from 1 to 25.\n",
    "#### Ans 4."
   ]
  },
  {
   "cell_type": "code",
   "execution_count": 4,
   "id": "02cf383a",
   "metadata": {},
   "outputs": [
    {
     "data": {
      "text/plain": [
       "15511210043330985984000000"
      ]
     },
     "execution_count": 4,
     "metadata": {},
     "output_type": "execute_result"
    }
   ],
   "source": [
    "from functools import reduce\n",
    "l3 = []\n",
    "for i in range(1,26):\n",
    "    l3.append(i)\n",
    "l3\n",
    "\n",
    "reduce(lambda x,y : x*y, l3)"
   ]
  },
  {
   "cell_type": "markdown",
   "id": "38eaa599",
   "metadata": {},
   "source": [
    "#### Q5. Write a python program to filter the numbers in a given list that are divisible by 2 and 3 using the filter function.\n",
    "#### [2, 3, 6, 9, 27, 60, 90, 120, 55, 46]\n",
    "#### Ans 5."
   ]
  },
  {
   "cell_type": "code",
   "execution_count": 5,
   "id": "77d3c505",
   "metadata": {},
   "outputs": [
    {
     "data": {
      "text/plain": [
       "[6, 60, 90, 120]"
      ]
     },
     "execution_count": 5,
     "metadata": {},
     "output_type": "execute_result"
    }
   ],
   "source": [
    "l4 = [2, 3, 6, 9, 27, 60, 90, 120, 55, 46]\n",
    "\n",
    "list (filter(lambda x : x % 2 == 0 and x % 3 == 0,l4))"
   ]
  },
  {
   "cell_type": "markdown",
   "id": "6925903f",
   "metadata": {},
   "source": [
    "#### Q6. Write a python program to find palindromes in the given list of strings using lambda and filter function.\n",
    "#### ['python', 'php', 'aba', 'radar', 'level']\n",
    "#### Ans 6."
   ]
  },
  {
   "cell_type": "code",
   "execution_count": 6,
   "id": "b43e899c",
   "metadata": {},
   "outputs": [
    {
     "data": {
      "text/plain": [
       "['php', 'aba', 'radar', 'level']"
      ]
     },
     "execution_count": 6,
     "metadata": {},
     "output_type": "execute_result"
    }
   ],
   "source": [
    "l5 = ['python', 'php', 'aba', 'radar', 'level']\n",
    "\n",
    "list(filter(lambda x : x == \"\".join(reversed(x)), l5))"
   ]
  },
  {
   "cell_type": "code",
   "execution_count": null,
   "id": "6664bda3",
   "metadata": {},
   "outputs": [],
   "source": []
  }
 ],
 "metadata": {
  "kernelspec": {
   "display_name": "Python 3 (ipykernel)",
   "language": "python",
   "name": "python3"
  },
  "language_info": {
   "codemirror_mode": {
    "name": "ipython",
    "version": 3
   },
   "file_extension": ".py",
   "mimetype": "text/x-python",
   "name": "python",
   "nbconvert_exporter": "python",
   "pygments_lexer": "ipython3",
   "version": "3.9.12"
  }
 },
 "nbformat": 4,
 "nbformat_minor": 5
}
