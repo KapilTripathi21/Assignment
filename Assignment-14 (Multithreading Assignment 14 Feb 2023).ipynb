{
 "cells": [
  {
   "cell_type": "markdown",
   "id": "f467e437-a86e-4f80-ac88-c22172574d3e",
   "metadata": {},
   "source": [
    "#### Assignment-14 (MultiThreading Assignment 14 Feb 2023)"
   ]
  },
  {
   "cell_type": "markdown",
   "id": "e2ef9c99-7e2b-4b75-958e-0ab1a2cccadd",
   "metadata": {},
   "source": [
    "#### Q1. What is multithreading in python? Why is it used? Name the module used to handle threads in python.\n",
    "#### Ans 1.\n",
    "Multithreading is a threading technique in Python programming to run multiple threads concurrently by rapidly switching between threads with a CPU help (called context switching). Besides, it allows sharing of its data space with the main threads inside a process that share information and communication with other threads easier than individual processes. \n",
    "\n",
    "Multithreading used to perform multiple tasks simultaneously, which increases performance, speed and improves the rendering of the application.\n",
    "\n",
    "There are two main modules of multithreading used to handle threads in Python.\n",
    "\n",
    "* The thread module\n",
    "* The threading module"
   ]
  },
  {
   "cell_type": "markdown",
   "id": "2bee775e-18c3-4f1b-9ad9-2abf063c16a1",
   "metadata": {},
   "source": [
    "#### Q2. Why threading module used? Write the use of the following functions :\n",
    "* activeCount()\n",
    "* currentThread()\n",
    "* enumerate()\n",
    "#### Ans 2.\n",
    "In Python, the threading module provides a very simple and intuitive API for spawning multiple threads in a program.\n",
    "\n",
    "* threading.activeCount() ---> Returns the number of thread objects that are active.\n",
    "* threading.currentThread() ---> Returns the number of thread objects in the caller's thread control.\n",
    "* threading.enumerate() −--> Returns a list of all thread objects that are currently active."
   ]
  },
  {
   "cell_type": "markdown",
   "id": "29f8755a-fbf0-42b9-a066-db724c52e6d3",
   "metadata": {},
   "source": [
    "#### Q3. Explain the following functions :\n",
    "* run()\n",
    "* start()\n",
    "* join()\n",
    "* isAlive()\n",
    "#### Ans 3.\n",
    "* run() − The run() method is the entry point for a thread.\n",
    "* start() − The start() method starts a thread by calling the run method.\n",
    "* join() − The join() waits for threads to terminate.\n",
    "* isAlive() − The isAlive() method checks whether a thread is still executing."
   ]
  },
  {
   "cell_type": "markdown",
   "id": "9dd1bead-7f31-484b-8f03-afb44190b941",
   "metadata": {},
   "source": [
    "#### Q4. Write a python program to create two threads. Thread one must print the list of squares and thread two must print the list of cubes.\n",
    "#### Ans 4."
   ]
  },
  {
   "cell_type": "code",
   "execution_count": 2,
   "id": "02dffa40-5316-4349-bf91-8b020fcd5ceb",
   "metadata": {},
   "outputs": [
    {
     "name": "stdout",
     "output_type": "stream",
     "text": [
      "Square of 1: 1\n",
      "Square of 2: 4\n",
      "Square of 3: 9\n",
      "Square of 4: 16\n",
      "Square of 5: 25\n",
      "Square of 6: 36\n",
      "Square of 7: 49\n",
      "Square of 8: 64\n",
      "Square of 9: 81\n",
      "Square of 10: 100\n",
      "Cube of 1: 1\n",
      "Cube of 2: 8\n",
      "Cube of 3: 27\n",
      "Cube of 4: 64\n",
      "Cube of 5: 125\n",
      "Cube of 6: 216\n",
      "Cube of 7: 343\n",
      "Cube of 8: 512\n",
      "Cube of 9: 729\n",
      "Cube of 10: 1000\n",
      "Both threads are completed\n"
     ]
    }
   ],
   "source": [
    "import threading\n",
    "\n",
    "def print_squares():\n",
    "    \"\"\"Print the list of squares of numbers from 1 to 10.\"\"\"\n",
    "    for i in range(1, 11):\n",
    "        print(f\"Square of {i}: {i*i}\")\n",
    "        \n",
    "def print_cubes():\n",
    "    \"\"\"Print the list of cubes of numbers from 1 to 10.\"\"\"\n",
    "    for i in range(1, 11):\n",
    "        print(f\"Cube of {i}: {i*i*i}\")\n",
    "\n",
    "# Create two threads\n",
    "thread1 = threading.Thread(target=print_squares)\n",
    "thread2 = threading.Thread(target=print_cubes)\n",
    "\n",
    "# Start both threads\n",
    "thread1.start()\n",
    "thread2.start()\n",
    "\n",
    "# Wait for both threads to complete\n",
    "thread1.join()\n",
    "thread2.join()\n",
    "\n",
    "# Both threads are completed\n",
    "print(\"Both threads are completed\")"
   ]
  },
  {
   "cell_type": "markdown",
   "id": "a27d4efb-4fb0-4c66-a727-b023dd96bfe0",
   "metadata": {},
   "source": [
    "#### Q5. State advantages and disadvantages of multithreading.\n",
    "#### Ans 5.\n",
    "Advantages of multithreading:\n",
    "\n",
    "* It ensures effective utilization of computer system resources.\n",
    "* Multithreaded applications are more responsive.\n",
    "* It shares resources and its state with sub-threads (child) which makes it more economical.\n",
    "* It makes the multiprocessor architecture more effective due to similarity.\n",
    "* It saves time by executing multiple threads at the same time.\n",
    "* The system does not require too much memory to store multiple threads.\n",
    "\n",
    "Disadvantages of multithreading\n",
    "\n",
    "* Difficulty of writing code. \n",
    "* Difficulty of debugging. \n",
    "* Difficulty of managing concurrency. \n",
    "* Difficulty of testing. \n",
    "* Difficulty of porting existing code."
   ]
  },
  {
   "cell_type": "markdown",
   "id": "977416e2-69ff-4f95-bd72-d26f79aab5c2",
   "metadata": {},
   "source": [
    "#### Q6. Explain deadlocks and race conditions.\n",
    "#### Ans 6.\n",
    "#### Race conditions :-\n",
    "\n",
    "When two processes are competing with each other causing data corruption.\n",
    "\n",
    "For example two persons are trying to deposit 1 dollar online into the same bank account. The initial amount is 17 Rs. Both the persons would be able to see 17 Rs initially. Each of them tries to deposit 1 Rs, and the final amount is expected to be 19 Rs. But due to race conditions, the final amount in the bank is 18 Rs instead of 19 Rs. This is also known as dirty read.\n",
    "\n",
    "It is very common for the race conditions to go unnoticed during testing even after multiple tests and code reviews. But in production, there would be a lot of processes and threads working parallelly and compete for the same resources, and this problem would occur.\n",
    "\n",
    "#### Deadlock conditions :-\n",
    "\n",
    "When two processes are waiting for each other directly or indirectly, it is called deadlock.\n",
    "\n",
    "This usually occurs when two processes are waiting for shared resources acquired by others. For example, If thread T1 acquired resource R1 and it also needs resource R2 for it to accomplish its task. But the resource R2 is acquired by thread T2 which is waiting for resource R1(which is acquired by T1).. Neither of them will be able to accomplish its task, as they keep waiting for the other resources they need.\n"
   ]
  },
  {
   "cell_type": "code",
   "execution_count": null,
   "id": "a24282ef-ee3c-4ca5-8b7a-22aa0fca820b",
   "metadata": {},
   "outputs": [],
   "source": []
  }
 ],
 "metadata": {
  "kernelspec": {
   "display_name": "Python 3 (ipykernel)",
   "language": "python",
   "name": "python3"
  },
  "language_info": {
   "codemirror_mode": {
    "name": "ipython",
    "version": 3
   },
   "file_extension": ".py",
   "mimetype": "text/x-python",
   "name": "python",
   "nbconvert_exporter": "python",
   "pygments_lexer": "ipython3",
   "version": "3.10.8"
  }
 },
 "nbformat": 4,
 "nbformat_minor": 5
}
